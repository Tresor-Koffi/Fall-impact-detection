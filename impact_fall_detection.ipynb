{
 "cells": [
  {
   "attachments": {},
   "cell_type": "markdown",
   "metadata": {},
   "source": [
    "<center>\n",
    "\n",
    "# **PAPER CODE: Machine Learning and Feature Ranking for Impact FALL DETECTION EVENT USING MULTISENSOR DATA**\n",
    "    \n",
    "</center>\n",
    "\n",
    "<span style=\"color:red; text-decoration: underline;\">Note:</span> The data used for this particular sample code is the dataset of subject 1. To allign the result with the result in the paper you should use the all the data that correspond to the dataset of 5 subjects with the same code\n"
   ]
  },
  {
   "cell_type": "code",
   "execution_count": 1,
   "metadata": {},
   "outputs": [
    {
     "data": {
      "text/plain": [
       "True"
      ]
     },
     "execution_count": 1,
     "metadata": {},
     "output_type": "execute_result"
    }
   ],
   "source": [
    "import numpy as np\n",
    "import torch\n",
    "torch.cuda.get_device_name(0)\n",
    "np.random.seed(42)\n",
    "\n",
    "# Switch to CPU when GPU is not available.\n",
    "device = torch.device('cuda' if torch.cuda.is_available() else 'cpu')\n",
    "import torch\n",
    "\n",
    "torch.cuda.is_available()"
   ]
  },
  {
   "cell_type": "code",
   "execution_count": 2,
   "metadata": {},
   "outputs": [],
   "source": [
    "import pandas as pd\n",
    "import numpy as np\n",
    "import seaborn as sns\n",
    "from sklearn.metrics import accuracy_score\n",
    "\n",
    "import matplotlib.pyplot as plt\n",
    "from sklearn.preprocessing import StandardScaler\n",
    "from sklearn.ensemble import RandomForestClassifier\n",
    "import matplotlib.pyplot as plt\n",
    "\n",
    "# Import the necessary libraries first\n",
    "from sklearn.feature_selection import SelectKBest \n",
    "from sklearn.feature_selection import f_classif # Chi-Squared test belongs the class of filter methods"
   ]
  },
  {
   "cell_type": "code",
   "execution_count": 3,
   "metadata": {},
   "outputs": [],
   "source": [
    "import pandas as pd\n",
    "import numpy as np\n",
    "import os\n",
    "from datetime import datetime\n",
    "from matplotlib import pyplot as plt\n",
    "\n",
    "from sklearn.model_selection import train_test_split\n",
    "from sklearn.metrics import confusion_matrix\n",
    "from sklearn.metrics import accuracy_score, f1_score, recall_score, precision_score\n",
    "from sklearn.preprocessing import StandardScaler, LabelEncoder\n",
    "from sklearn.preprocessing import MinMaxScaler\n",
    "from sklearn.svm import SVC\n",
    "\n",
    "\n",
    "import torch\n",
    "import torch.nn as nn\n",
    "from torch.nn import functional as F\n",
    "from torch.utils.tensorboard import SummaryWriter\n",
    "from torch.utils.data import DataLoader, random_split, TensorDataset\n",
    "from sklearn.preprocessing import RobustScaler\n",
    "from sklearn.model_selection import train_test_split\n",
    "import pandas as pd\n"
   ]
  },
  {
   "attachments": {},
   "cell_type": "markdown",
   "metadata": {},
   "source": [
    "# I- DATA LOADING"
   ]
  },
  {
   "cell_type": "code",
   "execution_count": 5,
   "metadata": {},
   "outputs": [],
   "source": [
    "# Load the data\n",
    "data = pd.read_csv(\"SUBJECT1.csv\")\n",
    "X = data.drop(['LABEL'] ,axis=1)\n",
    "y = data['LABEL']"
   ]
  },
  {
   "attachments": {},
   "cell_type": "markdown",
   "metadata": {},
   "source": [
    "## II-SCALING AND NORMALIZATION"
   ]
  },
  {
   "cell_type": "code",
   "execution_count": 6,
   "metadata": {},
   "outputs": [],
   "source": [
    "import pandas as pd\n",
    "import numpy as np\n",
    "\n",
    "                    #################################\n",
    "                             #SCALLING & NORMALIZATION                               \n",
    "                    #################################\n",
    "         \n",
    "# Split the data into training and testing sets\n",
    "X_train, X_test, y_train, y_test = train_test_split(X, y, test_size=0.2, random_state=42)\n",
    "\n",
    "# # Fit the scaler on the training data and transform both the training and testing data\n",
    "scaler = StandardScaler()\n",
    "scaler.fit(X_train)\n",
    "train_X = scaler.transform(X_train)\n",
    "test_X = scaler.transform( X_test)\n",
    "    \n",
    "# Now you can use X_train_scaled and X_test_scaled to train and test your model, respectively"
   ]
  },
  {
   "cell_type": "code",
   "execution_count": 9,
   "metadata": {},
   "outputs": [
    {
     "name": "stdout",
     "output_type": "stream",
     "text": [
      "      Ank_ACCX  Ank_ACCY  Ank_ACCZ  Ank_VELX  Ank_VELY  Ank_VELZ  Ank_LUMX  \\\n",
      "0    -1.801437  0.174389  0.219857 -0.446449 -0.386931  0.113610 -0.682141   \n",
      "1    -1.798935  0.162259  0.145475 -0.019286 -0.114407 -0.101751 -0.682141   \n",
      "2     0.053021  1.141180  0.717992  0.027398 -0.098050 -0.011487 -0.682141   \n",
      "3    -0.219767  1.024728  1.042568 -0.276985 -0.346039 -0.007616 -0.682141   \n",
      "4     1.191723 -0.662606 -0.061893 -6.712079  0.084512 -0.510540 -0.682141   \n",
      "...        ...       ...       ...       ...       ...       ...       ...   \n",
      "2265 -0.157201  1.126623  0.235635 -0.015854 -0.054476 -0.025678 -0.682141   \n",
      "2266  0.295777 -1.212112  0.483576  0.236654 -0.065381  0.022035 -0.682141   \n",
      "2267 -1.783919  0.238680  0.251413 -0.149015 -0.019036  0.029775 -0.682141   \n",
      "2268  0.358343  1.187275  0.368621  0.001446 -0.092597 -0.014067 -0.682141   \n",
      "2269  0.285766 -1.220603  0.470052 -0.311558 -0.098050 -0.014067 -0.682141   \n",
      "\n",
      "      RightPocketACCX  RightPocketACCY  RightPocketACCZ  ...  NeckLUMX  \\\n",
      "0           -1.568043         0.464402         0.047762  ... -0.395443   \n",
      "1           -1.650955         0.418707        -0.037501  ... -0.395443   \n",
      "2            0.313022         0.551637         1.559862  ...  1.122692   \n",
      "3            0.414071         0.277469         1.465900  ...  0.415130   \n",
      "4            0.771629        -0.540881        -0.089702  ... -0.978555   \n",
      "...               ...              ...              ...  ...       ...   \n",
      "2265         0.211973         1.048740         0.929965  ...  1.353617   \n",
      "2266         0.502165        -1.335692        -0.538634  ... -1.207191   \n",
      "2267        -1.775323        -0.297176        -0.169744  ... -0.338671   \n",
      "2268         0.320795         1.072279         0.933445  ...  1.594223   \n",
      "2269         0.175699        -1.406311        -0.336789  ... -1.171382   \n",
      "\n",
      "      WristACCX  WristACCY  WristACCZ  WristVELX  WristVELY  WristVELZ  \\\n",
      "0     -1.191802  -0.386714  -0.379751  -0.424104   0.073041   0.031903   \n",
      "1     -1.214903  -0.454690  -0.420014  -0.080657   0.205900   0.278803   \n",
      "2      0.596633  -0.994818   0.601469  -0.007226   0.061528  -0.051460   \n",
      "3      0.315566  -1.850939   0.070596  -0.805452  -0.479395  -0.172229   \n",
      "4     -0.951162   1.026069  -1.477286  -1.641591  -1.115513   3.712814   \n",
      "...         ...        ...        ...        ...        ...        ...   \n",
      "2265   1.713202  -1.110559   1.004098  -2.846426   1.477106   2.141686   \n",
      "2266   0.662087   0.026649  -2.046931  -0.035648   0.043734  -0.029007   \n",
      "2267  -1.363138  -0.574106   0.091473  -1.459198  -0.692830   0.227499   \n",
      "2268   0.669788   0.278341   0.950414  -0.012755   0.059435  -0.033284   \n",
      "2269   0.644761   0.052369  -2.054387   0.126998   0.113844  -0.046114   \n",
      "\n",
      "      WristLUMX  BrainSensor  Activity  \n",
      "0      0.548222    -0.084596 -0.710705  \n",
      "1      0.548222     0.164128 -0.710705  \n",
      "2     -0.959839    -0.129010  1.417660  \n",
      "3     -0.948142     1.021334  1.417660  \n",
      "4      1.018567     0.108609 -0.710705  \n",
      "...         ...          ...       ...  \n",
      "2265  -0.309883     0.388422 -0.001250  \n",
      "2266  -1.505081    -0.122348 -0.710705  \n",
      "2267  -1.093692     0.199659 -0.001250  \n",
      "2268  -0.530208     0.004234 -0.001250  \n",
      "2269  -1.487993     0.166348 -0.710705  \n",
      "\n",
      "[2270 rows x 37 columns]\n"
     ]
    }
   ],
   "source": [
    "# Train_X scaled\n",
    "print(train_X)"
   ]
  },
  {
   "attachments": {},
   "cell_type": "markdown",
   "metadata": {},
   "source": [
    "# III- FEATURE SELECTIONS"
   ]
  },
  {
   "cell_type": "code",
   "execution_count": 8,
   "metadata": {},
   "outputs": [
    {
     "data": {
      "image/png": "[encoded data removed]",
      "text/plain": [
       "<Figure size 1080x720 with 1 Axes>"
      ]
     },
     "metadata": {
      "needs_background": "light"
     },
     "output_type": "display_data"
    },
    {
     "name": "stdout",
     "output_type": "stream",
     "text": [
      "['Ank_ACCX', 'BeltACCY', 'RightPocketACCX', 'NeckACCX', 'WristACCX']\n"
     ]
    }
   ],
   "source": [
    "import pandas as pd\n",
    "import numpy as np\n",
    "from sklearn.preprocessing import StandardScaler\n",
    "from sklearn.model_selection import train_test_split\n",
    "from sklearn.ensemble import RandomForestClassifier\n",
    "import matplotlib.pyplot as plt\n",
    "\n",
    "# Convert train_X to a DataFrame\n",
    "train_X = pd.DataFrame(train_X, columns=X_train.columns)\n",
    "\n",
    "# Feature selection using Random Forest Classifier on the train set\n",
    "rfc = RandomForestClassifier(n_estimators=1000, random_state=4)\n",
    "rfc.fit(train_X, y_train)\n",
    "feature_scores = pd.DataFrame({'rfc': rfc.feature_importances_}, index=train_X.columns)\n",
    "feature_scores.sort_values('rfc', ascending=False, inplace=True)\n",
    "top_n = 5\n",
    "selected_features = feature_scores.iloc[:top_n].index.tolist()\n",
    "\n",
    "\n",
    "index = np.arange(len(feature_scores))\n",
    "fig, ax = plt.subplots(figsize=(15, 10))\n",
    "\n",
    "# Plot all features\n",
    "all_features = ax.barh(index, feature_scores['rfc'][::-1], color='blue', label='Unselected Features')\n",
    "\n",
    "# Plot the top selected features with a different color\n",
    "highlighted_colors = ['black' if feature in selected_features else 'blue' for feature in feature_scores.index[::-1]]\n",
    "for i, bar in enumerate(all_features):\n",
    "    bar.set_color(highlighted_colors[i])\n",
    "\n",
    "# ax.set(yticks=index, yticklabels=feature_scores.index[::-1])\n",
    "ax.set(yticks=index, yticklabels=feature_scores.index[::-1])\n",
    "ax.set_xlabel('Gini Impurity Index', fontsize=16)  # Add this line to set the x-axis label\n",
    "\n",
    "# Add legend for selected and unselected features\n",
    "selected_patch = plt.Rectangle((0, 0), 1, 1, fc='black')\n",
    "unselected_patch = plt.Rectangle((0, 0), 1, 1, fc='blue')\n",
    "legend = ax.legend([selected_patch, unselected_patch], ['Selected Features', 'Unselected Features'], fontsize=18, loc='lower left', bbox_to_anchor=(0.01, -0), ncol=1)\n",
    "\n",
    "ax.spines['right'].set_visible(False)\n",
    "ax.spines['top'].set_visible(False)\n",
    "\n",
    "\n",
    "# Increase the size of x-axis and y-axis\n",
    "plt.xticks(fontsize=14)\n",
    "plt.yticks(fontsize=14)\n",
    "\n",
    "plt.savefig('figure4.pdf', format='pdf', dpi=1200, bbox_extra_artists=(legend,), bbox_inches='tight')\n",
    "\n",
    "plt.show()\n",
    "\n",
    "# Subset the train and test sets to selected features\n",
    "train_X_selected = train_X[selected_features]\n",
    "# X_test_selected = X_test[selected_features]  # The training and testing datasets contain the same set of features for consistent evaluation\n",
    "print(selected_features)\n",
    "\n",
    "# print(X_train_selected.shape, X_test_selected.shape, X_val.shape)\n"
   ]
  },
  {
   "cell_type": "code",
   "execution_count": 10,
   "metadata": {},
   "outputs": [
    {
     "name": "stdout",
     "output_type": "stream",
     "text": [
      "Out-of-bag (OOB) Error Estimate: 0.0013\n"
     ]
    }
   ],
   "source": [
    "from sklearn.ensemble import RandomForestClassifier\n",
    "\n",
    "# Create and fit the Random Forest Classifier\n",
    "rfc = RandomForestClassifier(n_estimators=1000, oob_score=True, random_state=4)\n",
    "rfc.fit(train_X, y_train)\n",
    "\n",
    "# Calculate the OOB Error Estimate\n",
    "oob_error = 1 - rfc.oob_score_\n",
    "\n",
    "print(\"Out-of-bag (OOB) Error Estimate: {:.4f}\".format(oob_error))\n"
   ]
  },
  {
   "cell_type": "code",
   "execution_count": 300,
   "metadata": {},
   "outputs": [
    {
     "data": {
      "text/plain": [
       "(11132, 37)"
      ]
     },
     "execution_count": 300,
     "metadata": {},
     "output_type": "execute_result"
    }
   ],
   "source": [
    "train_X.shape"
   ]
  },
  {
   "attachments": {},
   "cell_type": "markdown",
   "metadata": {},
   "source": [
    "# RF"
   ]
  },
  {
   "cell_type": "code",
   "execution_count": 12,
   "metadata": {},
   "outputs": [
    {
     "name": "stdout",
     "output_type": "stream",
     "text": [
      "Fold 1 Training Accuracy: 0.9989, F1 Score: 0.9989\n",
      "Fold 1 Validation Accuracy: 0.7943, F1 Score: 0.7759\n",
      "Fold 2 Training Accuracy: 0.9983, F1 Score: 0.9983\n",
      "Fold 2 Validation Accuracy: 0.7839, F1 Score: 0.7719\n",
      "Fold 3 Training Accuracy: 0.9989, F1 Score: 0.9989\n",
      "Fold 3 Validation Accuracy: 0.8099, F1 Score: 0.7971\n",
      "Fold 4 Training Accuracy: 0.9996, F1 Score: 0.9996\n",
      "Fold 4 Validation Accuracy: 0.7986, F1 Score: 0.7859\n",
      "Fold 5 Training Accuracy: 0.9991, F1 Score: 0.9991\n",
      "Fold 5 Validation Accuracy: 0.7924, F1 Score: 0.7768\n",
      "Average Training Accuracy: 0.9990, F1 Score: 0.9990\n",
      "Average Validation Accuracy: 0.7958, F1 Score: 0.7815\n",
      "Test Accuracy: 0.7569, F1 Score: 0.7398\n"
     ]
    }
   ],
   "source": [
    "import pandas as pd\n",
    "from sklearn.model_selection import StratifiedKFold, GridSearchCV, train_test_split\n",
    "from sklearn.ensemble import RandomForestClassifier\n",
    "from sklearn.metrics import accuracy_score, f1_score\n",
    "import numpy as np\n",
    "\n",
    "# Load the dataset from the specified path\n",
    "data_path = r\"C:\\Users\\ytkoffi\\Desktop\\METHOD2SMV\\POSEDATA_SMV\\S5\\data51.csv\"\n",
    "data = pd.read_csv(data_path)\n",
    "\n",
    "# Assuming the last column is the label\n",
    "X = data.iloc[:, :-1]  # Features (all columns except the last one)\n",
    "y = data.iloc[:, -1]   # Label (the last column)\n",
    "\n",
    "# Split the dataset into training + validation and test sets\n",
    "X_train_val, X_test, y_train_val, y_test = train_test_split(X, y, test_size=0.2, random_state=42)\n",
    "\n",
    "# Initialize the StratifiedKFold object\n",
    "n_splits = 5\n",
    "skf = StratifiedKFold(n_splits=n_splits, shuffle=True, random_state=42)\n",
    "\n",
    "# Define the model and parameters for GridSearch\n",
    "rf = RandomForestClassifier(random_state=42)\n",
    "param_grid = {\n",
    "    'n_estimators': [50, 100, 200],\n",
    "    'max_depth': [None, 10, 20, 30],\n",
    "    'min_samples_split': [2, 5, 10],\n",
    "    'min_samples_leaf': [1, 2, 4]\n",
    "}\n",
    "grid_search = GridSearchCV(estimator=rf, param_grid=param_grid, cv=skf, scoring='accuracy', n_jobs=-1)\n",
    "\n",
    "# Initialize lists to hold the accuracy and F1 scores\n",
    "train_accuracies = []\n",
    "val_accuracies = []\n",
    "train_f1_scores = []\n",
    "val_f1_scores = []\n",
    "\n",
    "# Perform Stratified K-Fold Cross Validation with GridSearch\n",
    "for fold, (train_index, val_index) in enumerate(skf.split(X_train_val, y_train_val)):\n",
    "    X_train, X_val = X_train_val.iloc[train_index], X_train_val.iloc[val_index]\n",
    "    y_train, y_val = y_train_val.iloc[train_index], y_train_val.iloc[val_index]\n",
    "\n",
    "    # Fit the GridSearchCV object\n",
    "    grid_search.fit(X_train, y_train)\n",
    "    \n",
    "    # Best model\n",
    "    best_rf = grid_search.best_estimator_\n",
    "\n",
    "    # Calculate training accuracy and F1 score\n",
    "    y_train_pred = best_rf.predict(X_train)\n",
    "    train_accuracy = accuracy_score(y_train, y_train_pred)\n",
    "    train_f1 = f1_score(y_train, y_train_pred, average='weighted')\n",
    "    train_accuracies.append(train_accuracy)\n",
    "    train_f1_scores.append(train_f1)\n",
    "    \n",
    "    # Make predictions and calculate validation accuracy and F1 score\n",
    "    y_val_pred = best_rf.predict(X_val)\n",
    "    val_accuracy = accuracy_score(y_val, y_val_pred)\n",
    "    val_f1 = f1_score(y_val, y_val_pred, average='weighted')\n",
    "    val_accuracies.append(val_accuracy)\n",
    "    val_f1_scores.append(val_f1)\n",
    "    \n",
    "    # Print training and validation accuracy and F1 score for the current fold\n",
    "    print(f'Fold {fold + 1} Training Accuracy: {train_accuracy:.4f}, F1 Score: {train_f1:.4f}')\n",
    "    print(f'Fold {fold + 1} Validation Accuracy: {val_accuracy:.4f}, F1 Score: {val_f1:.4f}')\n",
    "\n",
    "# Calculate average accuracies and F1 scores\n",
    "average_train_accuracy = np.mean(train_accuracies)\n",
    "average_val_accuracy = np.mean(val_accuracies)\n",
    "average_train_f1 = np.mean(train_f1_scores)\n",
    "average_val_f1 = np.mean(val_f1_scores)\n",
    "\n",
    "# Print average accuracies and F1 scores\n",
    "print(f'Average Training Accuracy: {average_train_accuracy:.4f}, F1 Score: {average_train_f1:.4f}')\n",
    "print(f'Average Validation Accuracy: {average_val_accuracy:.4f}, F1 Score: {average_val_f1:.4f}')\n",
    "\n",
    "# Evaluate the best model on the test set\n",
    "best_rf = grid_search.best_estimator_\n",
    "y_test_pred = best_rf.predict(X_test)\n",
    "test_accuracy = accuracy_score(y_test, y_test_pred)\n",
    "test_f1 = f1_score(y_test, y_test_pred, average='weighted')\n",
    "\n",
    "# Print test accuracy and F1 score\n",
    "print(f'Test Accuracy: {test_accuracy:.4f}, F1 Score: {test_f1:.4f}')\n"
   ]
  },
  {
   "attachments": {},
   "cell_type": "markdown",
   "metadata": {},
   "source": [
    "# KNN"
   ]
  },
  {
   "cell_type": "code",
   "execution_count": 13,
   "metadata": {},
   "outputs": [
    {
     "name": "stdout",
     "output_type": "stream",
     "text": [
      "Fold 1 Training Accuracy: 0.9989, F1 Score: 0.9989\n",
      "Fold 1 Validation Accuracy: 0.7769, F1 Score: 0.7637\n",
      "Fold 2 Training Accuracy: 0.9987, F1 Score: 0.9987\n",
      "Fold 2 Validation Accuracy: 0.7543, F1 Score: 0.7496\n",
      "Fold 3 Training Accuracy: 0.9989, F1 Score: 0.9989\n",
      "Fold 3 Validation Accuracy: 0.7648, F1 Score: 0.7539\n",
      "Fold 4 Training Accuracy: 0.9996, F1 Score: 0.9996\n",
      "Fold 4 Validation Accuracy: 0.7535, F1 Score: 0.7441\n",
      "Fold 5 Training Accuracy: 0.9991, F1 Score: 0.9991\n",
      "Fold 5 Validation Accuracy: 0.7628, F1 Score: 0.7562\n",
      "Average Training Accuracy for KNN: 0.9990, F1 Score: 0.9990\n",
      "Average Validation Accuracy for KNN: 0.7625, F1 Score: 0.7535\n",
      "Test Accuracy for KNN: 0.7333, F1 Score: 0.7230\n"
     ]
    }
   ],
   "source": [
    "import pandas as pd\n",
    "from sklearn.model_selection import StratifiedKFold, GridSearchCV, train_test_split\n",
    "from sklearn.neighbors import KNeighborsClassifier\n",
    "from sklearn.metrics import accuracy_score, f1_score\n",
    "import numpy as np\n",
    "\n",
    "# Load the dataset from the specified path\n",
    "data_path = r\"C:\\Users\\ytkoffi\\Desktop\\METHOD2SMV\\POSEDATA_SMV\\S5\\data51.csv\"\n",
    "data = pd.read_csv(data_path)\n",
    "\n",
    "# Assuming the last column is the label\n",
    "X = data.iloc[:, :-1]  # Features\n",
    "y = data.iloc[:, -1]   # Label\n",
    "\n",
    "# Split the dataset into training + validation and test sets\n",
    "X_train_val, X_test, y_train_val, y_test = train_test_split(X, y, test_size=0.2, random_state=42)\n",
    "\n",
    "# Initialize the StratifiedKFold object\n",
    "n_splits = 5\n",
    "skf = StratifiedKFold(n_splits=n_splits, shuffle=True, random_state=42)\n",
    "\n",
    "# Define KNN model and parameters for GridSearch\n",
    "knn = KNeighborsClassifier()\n",
    "param_grid = {\n",
    "    'n_neighbors': [3, 5, 7],\n",
    "    'weights': ['uniform', 'distance'],\n",
    "    'p': [1, 2]\n",
    "}\n",
    "grid_search = GridSearchCV(estimator=knn, param_grid=param_grid, cv=skf, scoring='accuracy', n_jobs=-1)\n",
    "\n",
    "# Initialize lists to hold accuracy and F1 scores\n",
    "train_accuracies = []\n",
    "val_accuracies = []\n",
    "train_f1_scores = []\n",
    "val_f1_scores = []\n",
    "\n",
    "# Perform Stratified K-Fold Cross Validation with GridSearch\n",
    "for fold, (train_index, val_index) in enumerate(skf.split(X_train_val, y_train_val)):\n",
    "    X_train, X_val = X_train_val.iloc[train_index], X_train_val.iloc[val_index]\n",
    "    y_train, y_val = y_train_val.iloc[train_index], y_train_val.iloc[val_index]\n",
    "\n",
    "    # Fit the GridSearchCV object\n",
    "    grid_search.fit(X_train, y_train)\n",
    "    \n",
    "    # Best model\n",
    "    best_knn = grid_search.best_estimator_\n",
    "\n",
    "    # Calculate training accuracy and F1 score\n",
    "    y_train_pred = best_knn.predict(X_train)\n",
    "    train_accuracy = accuracy_score(y_train, y_train_pred)\n",
    "    train_f1 = f1_score(y_train, y_train_pred, average='weighted')\n",
    "    train_accuracies.append(train_accuracy)\n",
    "    train_f1_scores.append(train_f1)\n",
    "    \n",
    "    # Make predictions and calculate validation accuracy and F1 score\n",
    "    y_val_pred = best_knn.predict(X_val)\n",
    "    val_accuracy = accuracy_score(y_val, y_val_pred)\n",
    "    val_f1 = f1_score(y_val, y_val_pred, average='weighted')\n",
    "    val_accuracies.append(val_accuracy)\n",
    "    val_f1_scores.append(val_f1)\n",
    "    \n",
    "    # Print training and validation accuracy and F1 score for the current fold\n",
    "    print(f'Fold {fold + 1} Training Accuracy: {train_accuracy:.4f}, F1 Score: {train_f1:.4f}')\n",
    "    print(f'Fold {fold + 1} Validation Accuracy: {val_accuracy:.4f}, F1 Score: {val_f1:.4f}')\n",
    "\n",
    "# Calculate average accuracies and F1 scores\n",
    "average_train_accuracy = np.mean(train_accuracies)\n",
    "average_val_accuracy = np.mean(val_accuracies)\n",
    "average_train_f1 = np.mean(train_f1_scores)\n",
    "average_val_f1 = np.mean(val_f1_scores)\n",
    "\n",
    "# Print average accuracies and F1 scores\n",
    "print(f'Average Training Accuracy for KNN: {average_train_accuracy:.4f}, F1 Score: {average_train_f1:.4f}')\n",
    "print(f'Average Validation Accuracy for KNN: {average_val_accuracy:.4f}, F1 Score: {average_val_f1:.4f}')\n",
    "\n",
    "# Evaluate the best model on the test set\n",
    "best_knn = grid_search.best_estimator_\n",
    "y_test_pred = best_knn.predict(X_test)\n",
    "test_accuracy = accuracy_score(y_test, y_test_pred)\n",
    "test_f1 = f1_score(y_test, y_test_pred, average='weighted')\n",
    "\n",
    "# Print test accuracy and F1 score\n",
    "print(f'Test Accuracy for KNN: {test_accuracy:.4f}, F1 Score: {test_f1:.4f}')\n"
   ]
  },
  {
   "attachments": {},
   "cell_type": "markdown",
   "metadata": {},
   "source": [
    "# SVM"
   ]
  },
  {
   "cell_type": "code",
   "execution_count": 14,
   "metadata": {},
   "outputs": [
    {
     "name": "stdout",
     "output_type": "stream",
     "text": [
      "Fold 1 Training Accuracy: 0.7039, F1 Score: 0.5934\n",
      "Fold 1 Validation Accuracy: 0.6997, F1 Score: 0.5820\n",
      "Fold 2 Training Accuracy: 0.7031, F1 Score: 0.5913\n",
      "Fold 2 Validation Accuracy: 0.7049, F1 Score: 0.5943\n",
      "Fold 3 Training Accuracy: 0.7009, F1 Score: 0.5858\n",
      "Fold 3 Validation Accuracy: 0.7014, F1 Score: 0.5881\n",
      "Fold 4 Training Accuracy: 0.7009, F1 Score: 0.5872\n",
      "Fold 4 Validation Accuracy: 0.6997, F1 Score: 0.5842\n",
      "Fold 5 Training Accuracy: 0.7059, F1 Score: 0.5979\n",
      "Fold 5 Validation Accuracy: 0.6985, F1 Score: 0.5864\n",
      "Average Training Accuracy for SVM: 0.7029, F1 Score: 0.5911\n",
      "Average Validation Accuracy for SVM: 0.7008, F1 Score: 0.5870\n",
      "Test Accuracy for SVM: 0.6750, F1 Score: 0.5551\n"
     ]
    }
   ],
   "source": [
    "import pandas as pd\n",
    "from sklearn.model_selection import StratifiedKFold, GridSearchCV, train_test_split\n",
    "from sklearn.svm import SVC\n",
    "from sklearn.metrics import accuracy_score, f1_score\n",
    "import numpy as np\n",
    "\n",
    "# Load the dataset from the specified path\n",
    "data_path = r\"C:\\Users\\ytkoffi\\Desktop\\METHOD2SMV\\POSEDATA_SMV\\S5\\data51.csv\"\n",
    "data = pd.read_csv(data_path)\n",
    "\n",
    "# Assuming the last column is the label\n",
    "X = data.iloc[:, :-1]  # Features\n",
    "y = data.iloc[:, -1]   # Label\n",
    "\n",
    "# Split the dataset into training + validation and test sets\n",
    "X_train_val, X_test, y_train_val, y_test = train_test_split(X, y, test_size=0.2, random_state=42)\n",
    "\n",
    "# Initialize the StratifiedKFold object\n",
    "n_splits = 5\n",
    "skf = StratifiedKFold(n_splits=n_splits, shuffle=True, random_state=42)\n",
    "\n",
    "# Define SVM model and parameters for GridSearch\n",
    "svm = SVC(random_state=42)\n",
    "param_grid = {\n",
    "    'C': [0.1, 1, 10],\n",
    "    'kernel': ['linear', 'rbf', 'poly'],\n",
    "    'gamma': ['scale', 'auto']  # Only applicable for 'rbf' and 'poly'\n",
    "}\n",
    "grid_search = GridSearchCV(estimator=svm, param_grid=param_grid, cv=skf, scoring='accuracy', n_jobs=-1)\n",
    "\n",
    "# Initialize lists to hold accuracy and F1 scores\n",
    "train_accuracies = []\n",
    "val_accuracies = []\n",
    "train_f1_scores = []\n",
    "val_f1_scores = []\n",
    "\n",
    "# Perform Stratified K-Fold Cross Validation with GridSearch\n",
    "for fold, (train_index, val_index) in enumerate(skf.split(X_train_val, y_train_val)):\n",
    "    X_train, X_val = X_train_val.iloc[train_index], X_train_val.iloc[val_index]\n",
    "    y_train, y_val = y_train_val.iloc[train_index], y_train_val.iloc[val_index]\n",
    "\n",
    "    # Fit the GridSearchCV object\n",
    "    grid_search.fit(X_train, y_train)\n",
    "    \n",
    "    # Best model\n",
    "    best_svm = grid_search.best_estimator_\n",
    "\n",
    "    # Calculate training accuracy and F1 score\n",
    "    y_train_pred = best_svm.predict(X_train)\n",
    "    train_accuracy = accuracy_score(y_train, y_train_pred)\n",
    "    train_f1 = f1_score(y_train, y_train_pred, average='weighted')\n",
    "    train_accuracies.append(train_accuracy)\n",
    "    train_f1_scores.append(train_f1)\n",
    "    \n",
    "    # Make predictions and calculate validation accuracy and F1 score\n",
    "    y_val_pred = best_svm.predict(X_val)\n",
    "    val_accuracy = accuracy_score(y_val, y_val_pred)\n",
    "    val_f1 = f1_score(y_val, y_val_pred, average='weighted')\n",
    "    val_accuracies.append(val_accuracy)\n",
    "    val_f1_scores.append(val_f1)\n",
    "    \n",
    "    # Print training and validation accuracy and F1 score for the current fold\n",
    "    print(f'Fold {fold + 1} Training Accuracy: {train_accuracy:.4f}, F1 Score: {train_f1:.4f}')\n",
    "    print(f'Fold {fold + 1} Validation Accuracy: {val_accuracy:.4f}, F1 Score: {val_f1:.4f}')\n",
    "\n",
    "# Calculate average accuracies and F1 scores\n",
    "average_train_accuracy = np.mean(train_accuracies)\n",
    "average_val_accuracy = np.mean(val_accuracies)\n",
    "average_train_f1 = np.mean(train_f1_scores)\n",
    "average_val_f1 = np.mean(val_f1_scores)\n",
    "\n",
    "# Print average accuracies and F1 scores\n",
    "print(f'Average Training Accuracy for SVM: {average_train_accuracy:.4f}, F1 Score: {average_train_f1:.4f}')\n",
    "print(f'Average Validation Accuracy for SVM: {average_val_accuracy:.4f}, F1 Score: {average_val_f1:.4f}')\n",
    "\n",
    "# Evaluate the best model on the test set\n",
    "best_svm = grid_search.best_estimator_\n",
    "y_test_pred = best_svm.predict(X_test)\n",
    "test_accuracy = accuracy_score(y_test, y_test_pred)\n",
    "test_f1 = f1_score(y_test, y_test_pred, average='weighted')\n",
    "\n",
    "# Print test accuracy and F1 score\n",
    "print(f'Test Accuracy for SVM: {test_accuracy:.4f}, F1 Score: {test_f1:.4f}')\n"
   ]
  },
  {
   "attachments": {},
   "cell_type": "markdown",
   "metadata": {},
   "source": [
    "# MLP"
   ]
  },
  {
   "cell_type": "code",
   "execution_count": 15,
   "metadata": {},
   "outputs": [
    {
     "name": "stdout",
     "output_type": "stream",
     "text": [
      "Fold 1 Training Accuracy: 0.6979, F1 Score: 0.5795\n",
      "Fold 1 Validation Accuracy: 0.6962, F1 Score: 0.5741\n",
      "Fold 2 Training Accuracy: 0.6994, F1 Score: 0.5995\n",
      "Fold 2 Validation Accuracy: 0.6962, F1 Score: 0.6013\n",
      "Fold 3 Training Accuracy: 0.6942, F1 Score: 0.5688\n",
      "Fold 3 Validation Accuracy: 0.6944, F1 Score: 0.5692\n",
      "Fold 4 Training Accuracy: 0.6987, F1 Score: 0.5824\n",
      "Fold 4 Validation Accuracy: 0.7031, F1 Score: 0.5905\n",
      "Fold 5 Training Accuracy: 0.6992, F1 Score: 0.5857\n",
      "Fold 5 Validation Accuracy: 0.6950, F1 Score: 0.5816\n",
      "Average Training Accuracy for MLP: 0.6979, F1 Score: 0.5832\n",
      "Average Validation Accuracy for MLP: 0.6970, F1 Score: 0.5833\n",
      "Test Accuracy for MLP: 0.6694, F1 Score: 0.5510\n"
     ]
    }
   ],
   "source": [
    "import pandas as pd\n",
    "from sklearn.model_selection import StratifiedKFold, GridSearchCV, train_test_split\n",
    "from sklearn.neural_network import MLPClassifier\n",
    "from sklearn.metrics import accuracy_score, f1_score\n",
    "import numpy as np\n",
    "\n",
    "# Load the dataset from the specified path\n",
    "data_path = r\"C:\\Users\\ytkoffi\\Desktop\\METHOD2SMV\\POSEDATA_SMV\\S5\\data51.csv\"\n",
    "data = pd.read_csv(data_path)\n",
    "\n",
    "# Assuming the last column is the label\n",
    "X = data.iloc[:, :-1]  # Features\n",
    "y = data.iloc[:, -1]   # Label\n",
    "\n",
    "# Split the dataset into training + validation and test sets\n",
    "X_train_val, X_test, y_train_val, y_test = train_test_split(X, y, test_size=0.2, random_state=42)\n",
    "\n",
    "# Initialize the StratifiedKFold object\n",
    "n_splits = 5\n",
    "skf = StratifiedKFold(n_splits=n_splits, shuffle=True, random_state=42)\n",
    "\n",
    "# Define MLP model and parameters for GridSearch\n",
    "mlp = MLPClassifier(max_iter=500, random_state=42)\n",
    "param_grid = {\n",
    "    'hidden_layer_sizes': [(50,), (100,), (50, 50)],\n",
    "    'activation': ['tanh', 'relu'],\n",
    "    'solver': ['adam', 'sgd']\n",
    "}\n",
    "grid_search = GridSearchCV(estimator=mlp, param_grid=param_grid, cv=skf, scoring='accuracy', n_jobs=-1)\n",
    "\n",
    "# Initialize lists to hold accuracy and F1 scores\n",
    "train_accuracies = []\n",
    "val_accuracies = []\n",
    "train_f1_scores = []\n",
    "val_f1_scores = []\n",
    "\n",
    "# Perform Stratified K-Fold Cross Validation with GridSearch\n",
    "for fold, (train_index, val_index) in enumerate(skf.split(X_train_val, y_train_val)):\n",
    "    X_train, X_val = X_train_val.iloc[train_index], X_train_val.iloc[val_index]\n",
    "    y_train, y_val = y_train_val.iloc[train_index], y_train_val.iloc[val_index]\n",
    "\n",
    "    # Fit the GridSearchCV object\n",
    "    grid_search.fit(X_train, y_train)\n",
    "    \n",
    "    # Best model\n",
    "    best_mlp = grid_search.best_estimator_\n",
    "\n",
    "    # Calculate training accuracy and F1 score\n",
    "    y_train_pred = best_mlp.predict(X_train)\n",
    "    train_accuracy = accuracy_score(y_train, y_train_pred)\n",
    "    train_f1 = f1_score(y_train, y_train_pred, average='weighted')\n",
    "    train_accuracies.append(train_accuracy)\n",
    "    train_f1_scores.append(train_f1)\n",
    "    \n",
    "    # Make predictions and calculate validation accuracy and F1 score\n",
    "    y_val_pred = best_mlp.predict(X_val)\n",
    "    val_accuracy = accuracy_score(y_val, y_val_pred)\n",
    "    val_f1 = f1_score(y_val, y_val_pred, average='weighted')\n",
    "    val_accuracies.append(val_accuracy)\n",
    "    val_f1_scores.append(val_f1)\n",
    "    \n",
    "    # Print training and validation accuracy and F1 score for the current fold\n",
    "    print(f'Fold {fold + 1} Training Accuracy: {train_accuracy:.4f}, F1 Score: {train_f1:.4f}')\n",
    "    print(f'Fold {fold + 1} Validation Accuracy: {val_accuracy:.4f}, F1 Score: {val_f1:.4f}')\n",
    "\n",
    "# Calculate average accuracies and F1 scores\n",
    "average_train_accuracy = np.mean(train_accuracies)\n",
    "average_val_accuracy = np.mean(val_accuracies)\n",
    "average_train_f1 = np.mean(train_f1_scores)\n",
    "average_val_f1 = np.mean(val_f1_scores)\n",
    "\n",
    "# Print average accuracies and F1 scores\n",
    "print(f'Average Training Accuracy for MLP: {average_train_accuracy:.4f}, F1 Score: {average_train_f1:.4f}')\n",
    "print(f'Average Validation Accuracy for MLP: {average_val_accuracy:.4f}, F1 Score: {average_val_f1:.4f}')\n",
    "\n",
    "# Evaluate the best model on the test set\n",
    "best_mlp = grid_search.best_estimator_\n",
    "y_test_pred = best_mlp.predict(X_test)\n",
    "test_accuracy = accuracy_score(y_test, y_test_pred)\n",
    "test_f1 = f1_score(y_test, y_test_pred, average='weighted')\n",
    "\n",
    "# Print test accuracy and F1 score\n",
    "print(f'Test Accuracy for MLP: {test_accuracy:.4f}, F1 Score: {test_f1:.4f}')\n"
   ]
  },
  {
   "attachments": {},
   "cell_type": "markdown",
   "metadata": {},
   "source": [
    "# IV Extract Features Selected"
   ]
  },
  {
   "cell_type": "code",
   "execution_count": 301,
   "metadata": {},
   "outputs": [],
   "source": [
    "# Convert numpy arrays to pandas DataFrames\n",
    "train_X = pd.DataFrame(train_X, columns=X.columns)\n",
    "test_X = pd.DataFrame(test_X, columns=X.columns)\n",
    "\n",
    "# Split test data into validation\n",
    "val_X, test_X, y_val, y_test = train_test_split(test_X, y_test, test_size=0.5, random_state=42)\n",
    "\n",
    "# Select only the relevant features\n",
    "selected_features = ['Ank_ACCX', 'BeltACCY', 'Ank_ACCY', 'NeckACCZ', 'BeltACCZ']\n",
    "\n",
    "obs_train = train_X[selected_features]\n",
    "train_X = obs_train.values\n",
    "y_train = y_train.values\n",
    "transformed_train = pd.concat([obs_train, pd.Series(y_train, name='LABEL')], axis=1)\n",
    "\n",
    "obs_val = val_X[selected_features]\n",
    "val_X = obs_val.values\n",
    "y_val = y_val.values\n",
    "transformed_val = pd.concat([obs_val, pd.Series(y_val, name='LABEL')], axis=1)\n",
    "\n",
    "obs_test = test_X[selected_features]\n",
    "test_X = obs_test.values\n",
    "y_test = y_test.values\n",
    "transformed_test = pd.concat([obs_test, pd.Series(y_test, name='LABEL')], axis=1)"
   ]
  },
  {
   "cell_type": "code",
   "execution_count": 302,
   "metadata": {},
   "outputs": [
    {
     "data": {
      "text/plain": [
       "((11132, 5), (1392, 5), (11132,), (1392,), (1391, 5), (1391,))"
      ]
     },
     "execution_count": 302,
     "metadata": {},
     "output_type": "execute_result"
    }
   ],
   "source": [
    "train_X.shape, test_X.shape, y_train.shape, y_test.shape, val_X.shape, y_val.shape"
   ]
  },
  {
   "attachments": {},
   "cell_type": "markdown",
   "metadata": {},
   "source": [
    "# V- TESTING OF THE MACHINE LEARNING MODELS"
   ]
  },
  {
   "attachments": {},
   "cell_type": "markdown",
   "metadata": {},
   "source": [
    "SEVEN MACHINE LEARNING MODELS HAVE BEEN TESTED "
   ]
  },
  {
   "attachments": {},
   "cell_type": "markdown",
   "metadata": {},
   "source": [
    "# 1-  SVM"
   ]
  },
  {
   "cell_type": "code",
   "execution_count": 11,
   "metadata": {},
   "outputs": [
    {
     "name": "stdout",
     "output_type": "stream",
     "text": [
      "Model accuracy on train set: 1.0000\n"
     ]
    },
    {
     "data": {
      "text/plain": [
       "['svm_model.pkl']"
      ]
     },
     "execution_count": 11,
     "metadata": {},
     "output_type": "execute_result"
    }
   ],
   "source": [
    "from sklearn.metrics import accuracy_score, confusion_matrix, classification_report\n",
    "import joblib\n",
    "\n",
    "# Train SVM model\n",
    "svm_model = SVC(kernel='rbf', C=10, gamma='scale', random_state=0)\n",
    "svm_model.fit(train_X, y_train.ravel())\n",
    "from sklearn.metrics import accuracy_score\n",
    "\n",
    "# Predict train set results\n",
    "y_train_pred = svm_model.predict(train_X)\n",
    "\n",
    "# Evaluate model accuracy on train set\n",
    "accuracy_train = accuracy_score(y_train, y_train_pred)\n",
    "print(f\"Model accuracy on train set: {accuracy_train:.4f}\")\n",
    "\n",
    "#save model\n",
    "joblib.dump(svm_model, 'svm_model.pkl')\n",
    "\n"
   ]
  },
  {
   "cell_type": "code",
   "execution_count": 14,
   "metadata": {},
   "outputs": [
    {
     "ename": "NameError",
     "evalue": "name 'val_X' is not defined",
     "output_type": "error",
     "traceback": [
      "\u001b[1;31m---------------------------------------------------------------------------\u001b[0m",
      "\u001b[1;31mNameError\u001b[0m                                 Traceback (most recent call last)",
      "\u001b[1;32m<ipython-input-14-523c81af41b4>\u001b[0m in \u001b[0;36m<module>\u001b[1;34m\u001b[0m\n\u001b[0;32m      2\u001b[0m \u001b[1;33m\u001b[0m\u001b[0m\n\u001b[0;32m      3\u001b[0m \u001b[1;31m# Predict validation set results\u001b[0m\u001b[1;33m\u001b[0m\u001b[1;33m\u001b[0m\u001b[1;33m\u001b[0m\u001b[0m\n\u001b[1;32m----> 4\u001b[1;33m \u001b[0my_val_pred\u001b[0m \u001b[1;33m=\u001b[0m \u001b[0msvm_model\u001b[0m\u001b[1;33m.\u001b[0m\u001b[0mpredict\u001b[0m\u001b[1;33m(\u001b[0m\u001b[0mval_X\u001b[0m\u001b[1;33m)\u001b[0m\u001b[1;33m\u001b[0m\u001b[1;33m\u001b[0m\u001b[0m\n\u001b[0m\u001b[0;32m      5\u001b[0m \u001b[1;33m\u001b[0m\u001b[0m\n\u001b[0;32m      6\u001b[0m \u001b[1;31m# Evaluate model accuracy on validation set\u001b[0m\u001b[1;33m\u001b[0m\u001b[1;33m\u001b[0m\u001b[1;33m\u001b[0m\u001b[0m\n",
      "\u001b[1;31mNameError\u001b[0m: name 'val_X' is not defined"
     ]
    }
   ],
   "source": [
    "from sklearn.metrics import accuracy_score\n",
    "\n",
    "# Predict validation set results\n",
    "y_val_pred = svm_model.predict(val_X)\n",
    "\n",
    "# Evaluate model accuracy on validation set\n",
    "accuracy_val = accuracy_score(y_val, y_val_pred)\n",
    "print(f\"Model accuracy on validation set: {accuracy_val:.4f}\")\n"
   ]
  },
  {
   "cell_type": "code",
   "execution_count": 15,
   "metadata": {},
   "outputs": [
    {
     "name": "stdout",
     "output_type": "stream",
     "text": [
      "Model accuracy score: 0.9930\n",
      "SVM Classifier Metrics:\n",
      "               precision    recall  f1-score   support\n",
      "\n",
      "           0     1.0000    0.9420    0.9701        69\n",
      "           1     0.9920    1.0000    0.9960       499\n",
      "\n",
      "    accuracy                         0.9930       568\n",
      "   macro avg     0.9960    0.9710    0.9831       568\n",
      "weighted avg     0.9930    0.9930    0.9929       568\n",
      "\n"
     ]
    }
   ],
   "source": [
    "# Predict test set results\n",
    "y_pred = svm_model.predict(test_X)\n",
    "\n",
    "# Evaluate model accuracy on test set\n",
    "accuracy = accuracy_score(y_test, y_pred)\n",
    "print(f\"Model accuracy score: {accuracy:.4f}\")\n",
    "\n",
    "# Calculate and print classification metrics\n",
    "report_svm = classification_report(y_test, y_pred, digits=4)\n",
    "print(\"SVM Classifier Metrics:\\n\", report_svm)"
   ]
  },
  {
   "cell_type": "code",
   "execution_count": 21,
   "metadata": {},
   "outputs": [
    {
     "name": "stdout",
     "output_type": "stream",
     "text": [
      "Model accuracy score: 0.9947\n",
      "MLP Classifier Metrics:\n",
      "               precision    recall  f1-score   support\n",
      "\n",
      "           0     1.0000    0.9565    0.9778        69\n",
      "           1     0.9940    1.0000    0.9970       499\n",
      "\n",
      "    accuracy                         0.9947       568\n",
      "   macro avg     0.9970    0.9783    0.9874       568\n",
      "weighted avg     0.9947    0.9947    0.9947       568\n",
      "\n"
     ]
    }
   ],
   "source": [
    "\n",
    "# Import necessary libraries\n",
    "from sklearn.neural_network import MLPClassifier\n",
    "from sklearn.metrics import accuracy_score, classification_report\n",
    "from sklearn.model_selection import train_test_split# Initialize the MLP model\n",
    "mlp_model = MLPClassifier(hidden_layer_sizes=(100,), max_iter=300, random_state=42)\n",
    "\n",
    "# Train the MLP model\n",
    "mlp_model.fit(train_X, y_train)\n",
    "\n",
    "# Predict test set results\n",
    "y_pred = mlp_model.predict(test_X)\n",
    "\n",
    "# Evaluate model accuracy on test set\n",
    "accuracy = accuracy_score(y_test, y_pred)\n",
    "print(f\"Model accuracy score: {accuracy:.4f}\")\n",
    "\n",
    "# Calculate and print classification metrics\n",
    "report_mlp = classification_report(y_test, y_pred, digits=4)\n",
    "print(\"MLP Classifier Metrics:\\n\", report_mlp)"
   ]
  },
  {
   "cell_type": "code",
   "execution_count": 16,
   "metadata": {},
   "outputs": [
    {
     "data": {
      "image/png": "[encoded data removed]",
      "text/plain": [
       "<Figure size 432x288 with 2 Axes>"
      ]
     },
     "metadata": {
      "needs_background": "light"
     },
     "output_type": "display_data"
    }
   ],
   "source": [
    "from sklearn.metrics import confusion_matrix\n",
    "import seaborn as sns\n",
    "import matplotlib.pyplot as plt\n",
    "\n",
    "# predict labels for test set\n",
    "y_pred = svm_model.predict(test_X)\n",
    "\n",
    "# create confusion matrix\n",
    "cm = confusion_matrix(y_test, y_pred)\n",
    "cm_matrix = pd.DataFrame(data=cm, columns=['Actual Positive:1', 'Actual Negative:0'], \n",
    "                                 index=['IMPACT:1', 'Not IMPACT:0'])\n",
    "sns.heatmap(cm_matrix, annot=True, fmt='d', cmap='Blues_r')\n",
    "plt.show()\n"
   ]
  },
  {
   "cell_type": "code",
   "execution_count": 17,
   "metadata": {},
   "outputs": [
    {
     "ename": "FileNotFoundError",
     "evalue": "[Errno 2] No such file or directory: 'svm_model.joblib'",
     "output_type": "error",
     "traceback": [
      "\u001b[1;31m---------------------------------------------------------------------------\u001b[0m",
      "\u001b[1;31mFileNotFoundError\u001b[0m                         Traceback (most recent call last)",
      "\u001b[1;32m<ipython-input-17-b69f695c494d>\u001b[0m in \u001b[0;36m<module>\u001b[1;34m\u001b[0m\n\u001b[0;32m      1\u001b[0m \u001b[1;31m# load the saved model from a file\u001b[0m\u001b[1;33m\u001b[0m\u001b[1;33m\u001b[0m\u001b[1;33m\u001b[0m\u001b[0m\n\u001b[1;32m----> 2\u001b[1;33m \u001b[0msvm_loaded\u001b[0m \u001b[1;33m=\u001b[0m \u001b[0mjoblib\u001b[0m\u001b[1;33m.\u001b[0m\u001b[0mload\u001b[0m\u001b[1;33m(\u001b[0m\u001b[1;34m'svm_model.joblib'\u001b[0m\u001b[1;33m)\u001b[0m\u001b[1;33m\u001b[0m\u001b[1;33m\u001b[0m\u001b[0m\n\u001b[0m\u001b[0;32m      3\u001b[0m \u001b[1;33m\u001b[0m\u001b[0m\n\u001b[0;32m      4\u001b[0m \u001b[1;33m\u001b[0m\u001b[0m\n\u001b[0;32m      5\u001b[0m \u001b[1;31m# select a range of rows from the test set\u001b[0m\u001b[1;33m\u001b[0m\u001b[1;33m\u001b[0m\u001b[1;33m\u001b[0m\u001b[0m\n",
      "\u001b[1;32mc:\\ProgramData\\Anaconda3\\envs\\env_torch\\lib\\site-packages\\joblib\\numpy_pickle.py\u001b[0m in \u001b[0;36mload\u001b[1;34m(filename, mmap_mode)\u001b[0m\n\u001b[0;32m    575\u001b[0m             \u001b[0mobj\u001b[0m \u001b[1;33m=\u001b[0m \u001b[0m_unpickle\u001b[0m\u001b[1;33m(\u001b[0m\u001b[0mfobj\u001b[0m\u001b[1;33m)\u001b[0m\u001b[1;33m\u001b[0m\u001b[1;33m\u001b[0m\u001b[0m\n\u001b[0;32m    576\u001b[0m     \u001b[1;32melse\u001b[0m\u001b[1;33m:\u001b[0m\u001b[1;33m\u001b[0m\u001b[1;33m\u001b[0m\u001b[0m\n\u001b[1;32m--> 577\u001b[1;33m         \u001b[1;32mwith\u001b[0m \u001b[0mopen\u001b[0m\u001b[1;33m(\u001b[0m\u001b[0mfilename\u001b[0m\u001b[1;33m,\u001b[0m \u001b[1;34m'rb'\u001b[0m\u001b[1;33m)\u001b[0m \u001b[1;32mas\u001b[0m \u001b[0mf\u001b[0m\u001b[1;33m:\u001b[0m\u001b[1;33m\u001b[0m\u001b[1;33m\u001b[0m\u001b[0m\n\u001b[0m\u001b[0;32m    578\u001b[0m             \u001b[1;32mwith\u001b[0m \u001b[0m_read_fileobject\u001b[0m\u001b[1;33m(\u001b[0m\u001b[0mf\u001b[0m\u001b[1;33m,\u001b[0m \u001b[0mfilename\u001b[0m\u001b[1;33m,\u001b[0m \u001b[0mmmap_mode\u001b[0m\u001b[1;33m)\u001b[0m \u001b[1;32mas\u001b[0m \u001b[0mfobj\u001b[0m\u001b[1;33m:\u001b[0m\u001b[1;33m\u001b[0m\u001b[1;33m\u001b[0m\u001b[0m\n\u001b[0;32m    579\u001b[0m                 \u001b[1;32mif\u001b[0m \u001b[0misinstance\u001b[0m\u001b[1;33m(\u001b[0m\u001b[0mfobj\u001b[0m\u001b[1;33m,\u001b[0m \u001b[0mstr\u001b[0m\u001b[1;33m)\u001b[0m\u001b[1;33m:\u001b[0m\u001b[1;33m\u001b[0m\u001b[1;33m\u001b[0m\u001b[0m\n",
      "\u001b[1;31mFileNotFoundError\u001b[0m: [Errno 2] No such file or directory: 'svm_model.joblib'"
     ]
    }
   ],
   "source": [
    "# load the saved model from a file\n",
    "svm_loaded = joblib.load('svm_model.joblib')\n",
    "\n",
    "\n",
    "# select a range of rows from the test set\n",
    "test_range = test_X[1:200]\n",
    "\n",
    "# use the loaded model to make predictions on the selected range\n",
    "y_pred_range = svm_loaded.predict(test_range)\n",
    "\n",
    "# print the predicted labels\n",
    "results_range = pd.DataFrame({'Target': y_test[1:200].reshape(-1), 'Predicted': y_pred_range})\n",
    "\n",
    "# print the DataFrame\n",
    "print(results_range)\n"
   ]
  },
  {
   "attachments": {},
   "cell_type": "markdown",
   "metadata": {},
   "source": [
    "# 2- RF CLASSIFIER"
   ]
  },
  {
   "cell_type": "code",
   "execution_count": 18,
   "metadata": {},
   "outputs": [
    {
     "name": "stdout",
     "output_type": "stream",
     "text": [
      "Model accuracy on train set: 1.0000\n"
     ]
    },
    {
     "data": {
      "text/plain": [
       "['rfc5_model.joblib']"
      ]
     },
     "execution_count": 18,
     "metadata": {},
     "output_type": "execute_result"
    }
   ],
   "source": [
    "from sklearn.metrics import classification_report, accuracy_score\n",
    "from sklearn.ensemble import RandomForestClassifier\n",
    "import joblib\n",
    "\n",
    "# train the model on the training set\n",
    "rfc = RandomForestClassifier(n_estimators=100, random_state=0)\n",
    "rfc.fit(train_X, y_train.ravel())\n",
    "\n",
    "# Evaluate model accuracy on train set\n",
    "y_train_pred = rfc.predict(train_X)\n",
    "accuracy_train = accuracy_score(y_train, y_train_pred)\n",
    "print(f\"Model accuracy on train set: {accuracy_train:.4f}\")\n",
    "\n",
    "# Save the trained rfc model\n",
    "joblib.dump(rfc, 'rfc5_model.joblib')"
   ]
  },
  {
   "cell_type": "code",
   "execution_count": 348,
   "metadata": {},
   "outputs": [
    {
     "name": "stdout",
     "output_type": "stream",
     "text": [
      "Model accuracy on validation set: 0.9871\n"
     ]
    }
   ],
   "source": [
    "# evaluate model accuracy on validation set\n",
    "y_val_pred = rfc.predict(val_X)\n",
    "accuracy_val = accuracy_score(y_val, y_val_pred)\n",
    "print(f\"Model accuracy on validation set: {accuracy_val:.4f}\")"
   ]
  },
  {
   "cell_type": "code",
   "execution_count": 349,
   "metadata": {},
   "outputs": [
    {
     "name": "stdout",
     "output_type": "stream",
     "text": [
      "Model accuracy score: 0.9921\n",
      "rfc Classifier Metrics:\n",
      "               precision    recall  f1-score   support\n",
      "\n",
      "           0     0.9902    0.9573    0.9735       211\n",
      "           1     0.9924    0.9983    0.9954      1181\n",
      "\n",
      "    accuracy                         0.9921      1392\n",
      "   macro avg     0.9913    0.9778    0.9844      1392\n",
      "weighted avg     0.9921    0.9921    0.9920      1392\n",
      "\n"
     ]
    }
   ],
   "source": [
    "# Predict test set results\n",
    "y_pred = rfc.predict(test_X)\n",
    "\n",
    "# Evaluate model accuracy\n",
    "accuracy = accuracy_score(y_test, y_pred)\n",
    "print(f\"Model accuracy score: {accuracy:.4f}\")\n",
    "\n",
    "# Calculate and print classification metrics\n",
    "report_rfc = classification_report(y_test, y_pred, digits=4)\n",
    "print(\"rfc Classifier Metrics:\\n\", report_rfc)"
   ]
  },
  {
   "cell_type": "code",
   "execution_count": 350,
   "metadata": {},
   "outputs": [
    {
     "data": {
      "image/png": "[encoded data removed]",
      "text/plain": [
       "<Figure size 432x288 with 2 Axes>"
      ]
     },
     "metadata": {
      "needs_background": "light"
     },
     "output_type": "display_data"
    }
   ],
   "source": [
    "# visualize confusion matrix\n",
    "\n",
    "cm = confusion_matrix(y_test, y_pred)\n",
    "cm_matrix = pd.DataFrame(data=cm, columns=['Actual Positive:1', 'Actual Negative:0'], \n",
    "                                 index=['IMPACT:1', 'Not IMPACT:0'])\n",
    "sns.heatmap(cm_matrix, annot=True, fmt='d', cmap='Blues')\n",
    "plt.show()"
   ]
  },
  {
   "cell_type": "code",
   "execution_count": 351,
   "metadata": {},
   "outputs": [
    {
     "name": "stdout",
     "output_type": "stream",
     "text": [
      "     Target  Predicted\n",
      "0         1          1\n",
      "1         1          1\n",
      "2         1          1\n",
      "3         1          1\n",
      "4         1          1\n",
      "..      ...        ...\n",
      "194       1          1\n",
      "195       1          1\n",
      "196       0          1\n",
      "197       1          1\n",
      "198       0          1\n",
      "\n",
      "[199 rows x 2 columns]\n"
     ]
    }
   ],
   "source": [
    "# load the saved model from a file\n",
    "rfc_loaded = joblib.load('rfc_model.joblib')\n",
    "\n",
    "# select a range of rows from the test set\n",
    "test_range = test_X[1:200]\n",
    "\n",
    "# use the loaded model to make predictions on the selected range\n",
    "y_pred_range = rfc_loaded.predict(test_range)\n",
    "\n",
    "# print the predicted labels\n",
    "results_range = pd.DataFrame({'Target': y_test[1:200].reshape(-1), 'Predicted': y_pred_range})\n",
    "\n",
    "# print the DataFrame\n",
    "print(results_range)\n"
   ]
  },
  {
   "attachments": {},
   "cell_type": "markdown",
   "metadata": {},
   "source": [
    "# 3- SGD CALSSIFIER"
   ]
  },
  {
   "cell_type": "code",
   "execution_count": 313,
   "metadata": {},
   "outputs": [
    {
     "name": "stdout",
     "output_type": "stream",
     "text": [
      "Model accuracy score: 0.9447\n"
     ]
    },
    {
     "data": {
      "text/plain": [
       "['sgd_model.joblib']"
      ]
     },
     "execution_count": 313,
     "metadata": {},
     "output_type": "execute_result"
    }
   ],
   "source": [
    "from sklearn.linear_model import SGDClassifier\n",
    "from sklearn.metrics import accuracy_score, precision_score, recall_score, f1_score, confusion_matrix\n",
    "import joblib\n",
    "\n",
    "# Convert y_train and y_test from column vector to 1D array\n",
    "y_train = y_train.ravel()\n",
    "y_test = y_test.ravel()\n",
    "\n",
    "# Train using SGDClassifier\n",
    "sgd = SGDClassifier(loss='log', alpha=0.001, penalty='l2', max_iter=1000, random_state=42)\n",
    "\n",
    "# Fit the model to the training set\n",
    "sgd.fit(train_X, y_train)\n",
    "y_pred = sgd.predict(test_X)\n",
    "\n",
    "# Evaluate model accuracy on the training set\n",
    "accuracy = accuracy_score(y_test, y_pred)\n",
    "print(f\"Model accuracy score: {accuracy:.4f}\")\n",
    "\n",
    "#save the model\n",
    "joblib.dump(sgd, 'sgd_model.joblib')"
   ]
  },
  {
   "cell_type": "code",
   "execution_count": 314,
   "metadata": {},
   "outputs": [
    {
     "name": "stdout",
     "output_type": "stream",
     "text": [
      "Model accuracy on validation set: 0.9410\n"
     ]
    }
   ],
   "source": [
    "# evaluate the model in the validation set\n",
    "y_val_pred = sgd.predict(val_X)\n",
    "\n",
    "# Evaluate model accuracy on validation set\n",
    "accuracy_val = accuracy_score(y_val, y_val_pred)\n",
    "print(f\"Model accuracy on validation set: {accuracy_val:.4f}\")"
   ]
  },
  {
   "cell_type": "code",
   "execution_count": 315,
   "metadata": {},
   "outputs": [
    {
     "name": "stdout",
     "output_type": "stream",
     "text": [
      "Model accuracy score: 0.9447\n",
      "SGD Classifier Metrics:\n",
      "               precision    recall  f1-score   support\n",
      "\n",
      "           0     0.8564    0.7630    0.8070       211\n",
      "           1     0.9585    0.9771    0.9677      1181\n",
      "\n",
      "    accuracy                         0.9447      1392\n",
      "   macro avg     0.9074    0.8701    0.8874      1392\n",
      "weighted avg     0.9430    0.9447    0.9434      1392\n",
      "\n"
     ]
    }
   ],
   "source": [
    "#evaluate the model in the test set\n",
    "y_pred = sgd.predict(test_X)\n",
    "# Evaluate model accuracy\n",
    "accuracy = accuracy_score(y_test, y_pred)\n",
    "print(f\"Model accuracy score: {accuracy:.4f}\")\n",
    "\n",
    "# Calculate and print classification metrics\n",
    "report_sgd = classification_report(y_test, y_pred, digits=4)\n",
    "print(\"SGD Classifier Metrics:\\n\", report_sgd)"
   ]
  },
  {
   "cell_type": "code",
   "execution_count": 316,
   "metadata": {},
   "outputs": [
    {
     "data": {
      "image/png": "[encoded data removed]",
      "text/plain": [
       "<Figure size 432x288 with 2 Axes>"
      ]
     },
     "metadata": {
      "needs_background": "light"
     },
     "output_type": "display_data"
    }
   ],
   "source": [
    "from sklearn.metrics import confusion_matrix\n",
    "import seaborn as sns\n",
    "import matplotlib.pyplot as plt\n",
    "\n",
    "# predict labels for test set\n",
    "y_pred = sgd.predict(test_X)\n",
    "\n",
    "# create confusion matrix\n",
    "cm = confusion_matrix(y_test, y_pred)\n",
    "cm_matrix = pd.DataFrame(data=cm, columns=['Actual Positive:1', 'Actual Negative:0'], \n",
    "                                 index=['IMPACT:1', 'Not IMPACT:0'])\n",
    "sns.heatmap(cm_matrix, annot=True, fmt='d', cmap='Blues_r')\n",
    "plt.show()"
   ]
  },
  {
   "cell_type": "code",
   "execution_count": 317,
   "metadata": {},
   "outputs": [
    {
     "name": "stdout",
     "output_type": "stream",
     "text": [
      "     Target  Predicted\n",
      "0         1          1\n",
      "1         1          1\n",
      "2         1          1\n",
      "3         1          1\n",
      "4         1          1\n",
      "..      ...        ...\n",
      "194       1          1\n",
      "195       1          0\n",
      "196       0          0\n",
      "197       1          1\n",
      "198       0          0\n",
      "\n",
      "[199 rows x 2 columns]\n"
     ]
    }
   ],
   "source": [
    "# load the saved model from a file\n",
    "sgd_loaded = joblib.load('sgd_model.joblib')\n",
    "\n",
    "# select a range of rows from the test set\n",
    "test_range = test_X[1:200]\n",
    "\n",
    "# use the loaded model to make predictions on the selected range\n",
    "y_pred_range = sgd_loaded.predict(test_range)\n",
    "\n",
    "# print the predicted labels\n",
    "results_range = pd.DataFrame({'Target': y_test[1:200].reshape(-1), 'Predicted': y_pred_range})\n",
    "\n",
    "# print the DataFrame\n",
    "print(results_range)"
   ]
  },
  {
   "attachments": {},
   "cell_type": "markdown",
   "metadata": {},
   "source": [
    "#   4-                           NAIVE BAYES "
   ]
  },
  {
   "cell_type": "code",
   "execution_count": 318,
   "metadata": {},
   "outputs": [
    {
     "name": "stdout",
     "output_type": "stream",
     "text": [
      "Model accuracy on train set: 0.9858\n"
     ]
    },
    {
     "data": {
      "text/plain": [
       "['gnb_model.joblib']"
      ]
     },
     "execution_count": 318,
     "metadata": {},
     "output_type": "execute_result"
    }
   ],
   "source": [
    "from sklearn.metrics import classification_report, accuracy_score\n",
    "from sklearn.naive_bayes import GaussianNB\n",
    "import joblib\n",
    "\n",
    "# Train Gaussian Naive Bayes classifier on selected features\n",
    "gnb = GaussianNB()\n",
    "gnb.fit(train_X, y_train)\n",
    "\n",
    "#evaluate the model accuracy on train set\n",
    "y_train_pred = gnb.predict(train_X)\n",
    "accuracy_train = accuracy_score(y_train, y_train_pred)\n",
    "print(f\"Model accuracy on train set: {accuracy_train:.4f}\")\n",
    "\n",
    "# Save the trained gnb model\n",
    "joblib.dump(gnb, 'gnb_model.joblib')"
   ]
  },
  {
   "cell_type": "code",
   "execution_count": 319,
   "metadata": {},
   "outputs": [
    {
     "name": "stdout",
     "output_type": "stream",
     "text": [
      "Model accuracy on validation set: 0.9842\n"
     ]
    }
   ],
   "source": [
    "# evaluate the model in the validation set\n",
    "y_val_pred = gnb.predict(val_X)\n",
    "# Evaluate model accuracy on validation set\n",
    "accuracy_val = accuracy_score(y_val, y_val_pred)\n",
    "print(f\"Model accuracy on validation set: {accuracy_val:.4f}\")"
   ]
  },
  {
   "cell_type": "code",
   "execution_count": 320,
   "metadata": {},
   "outputs": [
    {
     "name": "stdout",
     "output_type": "stream",
     "text": [
      "Model accuracy score: 0.9885\n",
      "Gaussian Naive Bayes Classifier Metrics:\n",
      "               precision    recall  f1-score   support\n",
      "\n",
      "           0     0.9665    0.9573    0.9619       211\n",
      "           1     0.9924    0.9941    0.9932      1181\n",
      "\n",
      "    accuracy                         0.9885      1392\n",
      "   macro avg     0.9794    0.9757    0.9776      1392\n",
      "weighted avg     0.9885    0.9885    0.9885      1392\n",
      "\n"
     ]
    }
   ],
   "source": [
    "#evaluate the model in the test set\n",
    "y_pred = gnb.predict(test_X)\n",
    "# Evaluate model accuracy on test set\n",
    "gnb_accuracy = accuracy_score(y_test, y_pred)\n",
    "print(f\"Model accuracy score: {gnb_accuracy:.4f}\")\n",
    "# Calculate and print classification metrics\n",
    "report_gnb = classification_report(y_test, y_pred, digits=4)\n",
    "print(\"Gaussian Naive Bayes Classifier Metrics:\\n\", report_gnb)"
   ]
  },
  {
   "cell_type": "code",
   "execution_count": 321,
   "metadata": {},
   "outputs": [
    {
     "data": {
      "image/png": "[encoded data removed]",
      "text/plain": [
       "<Figure size 432x288 with 2 Axes>"
      ]
     },
     "metadata": {
      "needs_background": "light"
     },
     "output_type": "display_data"
    }
   ],
   "source": [
    "from sklearn.metrics import confusion_matrix\n",
    "import seaborn as sns\n",
    "import matplotlib.pyplot as plt\n",
    "\n",
    "# predict labels for test set\n",
    "y_pred = gnb.predict(test_X)\n",
    "\n",
    "# create confusion matrix\n",
    "cm = confusion_matrix(y_test, y_pred)\n",
    "cm_matrix = pd.DataFrame(data=cm, columns=['Actual Positive:1', 'Actual Negative:0'], \n",
    "                                 index=['IMPACT:1', 'Not IMPACT:0'])\n",
    "sns.heatmap(cm_matrix, annot=True, fmt='d', cmap='BrBG')\n",
    "plt.show()\n"
   ]
  },
  {
   "cell_type": "code",
   "execution_count": 322,
   "metadata": {},
   "outputs": [
    {
     "name": "stdout",
     "output_type": "stream",
     "text": [
      "     Target  Predicted\n",
      "0         1          1\n",
      "1         1          1\n",
      "2         1          1\n",
      "3         1          1\n",
      "4         1          1\n",
      "..      ...        ...\n",
      "194       1          1\n",
      "195       1          1\n",
      "196       0          1\n",
      "197       1          1\n",
      "198       0          0\n",
      "\n",
      "[199 rows x 2 columns]\n"
     ]
    }
   ],
   "source": [
    "# load the saved model from a file\n",
    "gnb_loaded = joblib.load('gnb_model.joblib')\n",
    "\n",
    "\n",
    "# select a range of rows from the test set\n",
    "test_range = test_X[1:200]\n",
    "\n",
    "# use the loaded model to make predictions on the selected range\n",
    "y_pred_range = gnb_loaded.predict(test_range)\n",
    "\n",
    "# print the predicted labels\n",
    "results_range = pd.DataFrame({'Target': y_test[1:200].reshape(-1), 'Predicted': y_pred_range})\n",
    "\n",
    "# print the DataFrame\n",
    "print(results_range)\n"
   ]
  },
  {
   "attachments": {},
   "cell_type": "markdown",
   "metadata": {},
   "source": [
    "#  5- DECISION TREE"
   ]
  },
  {
   "cell_type": "code",
   "execution_count": 323,
   "metadata": {},
   "outputs": [
    {
     "name": "stdout",
     "output_type": "stream",
     "text": [
      "Model accuracy on train set: 0.9999\n"
     ]
    },
    {
     "data": {
      "text/plain": [
       "['dtc_model.joblib']"
      ]
     },
     "execution_count": 323,
     "metadata": {},
     "output_type": "execute_result"
    }
   ],
   "source": [
    "from sklearn.tree import DecisionTreeClassifier\n",
    "from sklearn.metrics import accuracy_score, classification_report\n",
    "import joblib\n",
    "\n",
    "# Train decision tree classifier\n",
    "dtc = DecisionTreeClassifier(random_state=0, max_depth=None,)\n",
    "dtc.fit(train_X, y_train)\n",
    "\n",
    "# evaluate the model accuracy on train set\n",
    "y_train_pred = dtc.predict(train_X)\n",
    "accuracy_train = accuracy_score(y_train, y_train_pred)\n",
    "print(f\"Model accuracy on train set: {accuracy_train:.4f}\")\n",
    "\n",
    "# Save the trained dtc model\n",
    "joblib.dump(dtc, 'dtc_model.joblib')"
   ]
  },
  {
   "cell_type": "code",
   "execution_count": 324,
   "metadata": {},
   "outputs": [
    {
     "name": "stdout",
     "output_type": "stream",
     "text": [
      "Model accuracy on validation set: 0.9871\n"
     ]
    }
   ],
   "source": [
    "# evaluate the model in the validation set\n",
    "y_val_pred = dtc.predict(val_X)\n",
    "# Evaluate model accuracy on validation set\n",
    "accuracy_val = accuracy_score(y_val, y_val_pred)\n",
    "print(f\"Model accuracy on validation set: {accuracy_val:.4f}\")"
   ]
  },
  {
   "cell_type": "code",
   "execution_count": 325,
   "metadata": {},
   "outputs": [
    {
     "name": "stdout",
     "output_type": "stream",
     "text": [
      "Model accuracy score: 0.9892\n",
      "Decision Tree Classifier Metrics:\n",
      "               precision    recall  f1-score   support\n",
      "\n",
      "           0     0.9667    0.9621    0.9644       211\n",
      "           1     0.9932    0.9941    0.9937      1181\n",
      "\n",
      "    accuracy                         0.9892      1392\n",
      "   macro avg     0.9799    0.9781    0.9790      1392\n",
      "weighted avg     0.9892    0.9892    0.9892      1392\n",
      "\n"
     ]
    }
   ],
   "source": [
    "#evaluate the model in the test set\n",
    "y_pred = dtc.predict(test_X)\n",
    "# Evaluate model accuracy on test set\n",
    "dtc_accuracy = accuracy_score(y_test, y_pred)\n",
    "print(f\"Model accuracy score: {dtc_accuracy:.4f}\")\n",
    "# Calculate and print classification metrics\n",
    "report_dtc = classification_report(y_test, y_pred, digits=4)\n",
    "print(\"Decision Tree Classifier Metrics:\\n\", report_dtc)"
   ]
  },
  {
   "cell_type": "code",
   "execution_count": 326,
   "metadata": {},
   "outputs": [
    {
     "data": {
      "image/png": "[encoded data removed]",
      "text/plain": [
       "<Figure size 432x288 with 2 Axes>"
      ]
     },
     "metadata": {
      "needs_background": "light"
     },
     "output_type": "display_data"
    }
   ],
   "source": [
    "from sklearn.metrics import confusion_matrix\n",
    "import seaborn as sns\n",
    "import matplotlib.pyplot as plt\n",
    "\n",
    "# predict labels for test set\n",
    "y_pred = dtc.predict(test_X)\n",
    "\n",
    "# create confusion matrix\n",
    "cm = confusion_matrix(y_test, y_pred)\n",
    "cm_matrix = pd.DataFrame(data=cm, columns=['Actual Positive:1', 'Actual Negative:0'], \n",
    "                                 index=['IMPACT:1', 'Not IMPACT:0'])\n",
    "sns.heatmap(cm_matrix, annot=True, fmt='d', cmap='BrBG')\n",
    "plt.show()"
   ]
  },
  {
   "cell_type": "code",
   "execution_count": 327,
   "metadata": {},
   "outputs": [
    {
     "name": "stdout",
     "output_type": "stream",
     "text": [
      "     Target  Predicted\n",
      "0         1          1\n",
      "1         1          1\n",
      "2         1          1\n",
      "3         1          1\n",
      "4         1          1\n",
      "..      ...        ...\n",
      "194       1          1\n",
      "195       1          1\n",
      "196       0          1\n",
      "197       1          1\n",
      "198       0          0\n",
      "\n",
      "[199 rows x 2 columns]\n"
     ]
    }
   ],
   "source": [
    "# load the saved model from a file\n",
    "dtc_loaded = joblib.load('dtc_model.joblib')\n",
    "\n",
    "# select a range of rows from the test set\n",
    "test_range = test_X[1:200]\n",
    "\n",
    "# use the loaded model to make predictions on the selected range\n",
    "y_pred_range = dtc_loaded.predict(test_range)\n",
    "\n",
    "# print the predicted labels\n",
    "results_range = pd.DataFrame({'Target': y_test[1:200].reshape(-1), 'Predicted': y_pred_range})\n",
    "\n",
    "# print the DataFrame\n",
    "print(results_range)\n"
   ]
  },
  {
   "attachments": {},
   "cell_type": "markdown",
   "metadata": {},
   "source": [
    "#  6- KNN CLASSIFIER "
   ]
  },
  {
   "cell_type": "code",
   "execution_count": 328,
   "metadata": {},
   "outputs": [
    {
     "name": "stdout",
     "output_type": "stream",
     "text": [
      "Model accuracy on train set: 0.9924\n"
     ]
    },
    {
     "data": {
      "text/plain": [
       "['knn_model.joblib']"
      ]
     },
     "execution_count": 328,
     "metadata": {},
     "output_type": "execute_result"
    }
   ],
   "source": [
    "from sklearn.neighbors import KNeighborsClassifier\n",
    "from sklearn.metrics import accuracy_score, classification_report\n",
    "import joblib\n",
    "\n",
    "# Train K-Nearest Neighbors Classifier on all features\n",
    "knn = KNeighborsClassifier(n_neighbors=5, weights='uniform',)\n",
    "knn.fit(train_X, y_train)\n",
    "\n",
    "# evaluate the model accuracy on train set\n",
    "y_train_pred = knn.predict(train_X)\n",
    "accuracy_train = accuracy_score(y_train, y_train_pred)\n",
    "print(f\"Model accuracy on train set: {accuracy_train:.4f}\")\n",
    "# Save the trained knn model\n",
    "joblib.dump(knn, 'knn_model.joblib')"
   ]
  },
  {
   "cell_type": "code",
   "execution_count": 329,
   "metadata": {},
   "outputs": [
    {
     "name": "stdout",
     "output_type": "stream",
     "text": [
      "Model accuracy on validation set: 0.9871\n"
     ]
    }
   ],
   "source": [
    "# evaluate the model in the validation set\n",
    "y_val_pred = knn.predict(val_X)\n",
    "# Evaluate model accuracy on validation set\n",
    "accuracy_val = accuracy_score(y_val, y_val_pred)\n",
    "print(f\"Model accuracy on validation set: {accuracy_val:.4f}\")"
   ]
  },
  {
   "cell_type": "code",
   "execution_count": 330,
   "metadata": {},
   "outputs": [
    {
     "name": "stdout",
     "output_type": "stream",
     "text": [
      "Model accuracy score: 0.9935\n",
      "K-Nearest Neighbors Classifier Metrics:\n",
      "               precision    recall  f1-score   support\n",
      "\n",
      "           0     0.9856    0.9716    0.9785       211\n",
      "           1     0.9949    0.9975    0.9962      1181\n",
      "\n",
      "    accuracy                         0.9935      1392\n",
      "   macro avg     0.9903    0.9845    0.9874      1392\n",
      "weighted avg     0.9935    0.9935    0.9935      1392\n",
      "\n"
     ]
    }
   ],
   "source": [
    "#evaluate the model in the test set\n",
    "y_pred = knn.predict(test_X)\n",
    "# Evaluate model accuracy on test set\n",
    "knn_accuracy = accuracy_score(y_test, y_pred)\n",
    "print(f\"Model accuracy score: {knn_accuracy:.4f}\")\n",
    "# Calculate and print classification metrics\n",
    "report_knn = classification_report(y_test, y_pred, digits=4)\n",
    "print(\"K-Nearest Neighbors Classifier Metrics:\\n\", report_knn)"
   ]
  },
  {
   "cell_type": "code",
   "execution_count": 331,
   "metadata": {},
   "outputs": [
    {
     "data": {
      "image/png": "[encoded data removed]",
      "text/plain": [
       "<Figure size 432x288 with 2 Axes>"
      ]
     },
     "metadata": {
      "needs_background": "light"
     },
     "output_type": "display_data"
    }
   ],
   "source": [
    "from sklearn.metrics import confusion_matrix\n",
    "import seaborn as sns\n",
    "import matplotlib.pyplot as plt\n",
    "\n",
    "# create confusion matrix\n",
    "cm = confusion_matrix(y_test, y_pred)\n",
    "cm_matrix = pd.DataFrame(data=cm, columns=['Actual Positive:1', 'Actual Negative:0'], \n",
    "                                 index=['IMPACT:1', 'Not IMPACT:0'])\n",
    "sns.heatmap(cm_matrix, annot=True, fmt='d', cmap='BrBG')\n",
    "plt.show()"
   ]
  },
  {
   "cell_type": "code",
   "execution_count": 332,
   "metadata": {},
   "outputs": [
    {
     "name": "stdout",
     "output_type": "stream",
     "text": [
      "     Target  Predicted\n",
      "0         1          1\n",
      "1         1          1\n",
      "2         1          1\n",
      "3         1          1\n",
      "4         1          1\n",
      "..      ...        ...\n",
      "194       1          1\n",
      "195       1          1\n",
      "196       0          0\n",
      "197       1          1\n",
      "198       0          0\n",
      "\n",
      "[199 rows x 2 columns]\n"
     ]
    }
   ],
   "source": [
    "# load the saved model from a file\n",
    "knn_loaded = joblib.load('knn_model.joblib')\n",
    "\n",
    "# select a range of rows from the test set\n",
    "test_range = test_X[1:200]\n",
    "\n",
    "# use the loaded model to make predictions on the selected range\n",
    "y_pred_range = knn_loaded.predict(test_range)\n",
    "\n",
    "# print the predicted labels\n",
    "results_range = pd.DataFrame({'Target': y_test[1:200].reshape(-1), 'Predicted': y_pred_range})\n",
    "\n",
    "# print the DataFrame\n",
    "print(results_range)\n"
   ]
  },
  {
   "attachments": {},
   "cell_type": "markdown",
   "metadata": {},
   "source": [
    "# 7- LR CLASSIFIER"
   ]
  },
  {
   "cell_type": "code",
   "execution_count": 333,
   "metadata": {},
   "outputs": [
    {
     "name": "stdout",
     "output_type": "stream",
     "text": [
      "Model accuracy on train set: 0.9464\n"
     ]
    },
    {
     "data": {
      "text/plain": [
       "['lr_model.joblib']"
      ]
     },
     "execution_count": 333,
     "metadata": {},
     "output_type": "execute_result"
    }
   ],
   "source": [
    "from sklearn.linear_model import LogisticRegression\n",
    "from sklearn.metrics import accuracy_score, classification_report\n",
    "import joblib\n",
    "\n",
    "lr = LogisticRegression(max_iter=10000, random_state=0, solver='lbfgs')\n",
    "\n",
    "# Train and evaluate LR classifier with selected features\n",
    "lr.fit(train_X, y_train.ravel())\n",
    "\n",
    "# evaluate the model accuracy on train set\n",
    "y_train_pred = lr.predict(train_X)\n",
    "accuracy_train = accuracy_score(y_train, y_train_pred)\n",
    "print(f\"Model accuracy on train set: {accuracy_train:.4f}\")\n",
    "# Save the trained lr model\n",
    "joblib.dump(lr, 'lr_model.joblib')"
   ]
  },
  {
   "cell_type": "code",
   "execution_count": 334,
   "metadata": {},
   "outputs": [
    {
     "name": "stdout",
     "output_type": "stream",
     "text": [
      "Model accuracy on validation set: 0.9439\n"
     ]
    }
   ],
   "source": [
    "# evaluate the model in the validation set\n",
    "y_val_pred = lr.predict(val_X)\n",
    "# Evaluate model accuracy on validation set\n",
    "accuracy_val = accuracy_score(y_val, y_val_pred)\n",
    "print(f\"Model accuracy on validation set: {accuracy_val:.4f}\")"
   ]
  },
  {
   "cell_type": "code",
   "execution_count": 335,
   "metadata": {},
   "outputs": [
    {
     "name": "stdout",
     "output_type": "stream",
     "text": [
      "Model accuracy score: 0.9476\n",
      "Logistic Regression Classifier Metrics:\n",
      "               precision    recall  f1-score   support\n",
      "\n",
      "           0     0.8632    0.7773    0.8180       211\n",
      "           1     0.9609    0.9780    0.9694      1181\n",
      "\n",
      "    accuracy                         0.9476      1392\n",
      "   macro avg     0.9120    0.8776    0.8937      1392\n",
      "weighted avg     0.9461    0.9476    0.9464      1392\n",
      "\n"
     ]
    }
   ],
   "source": [
    "#evaluate the model in the test set\n",
    "y_pred = lr.predict(test_X)\n",
    "# Evaluate model accuracy on test set\n",
    "lr_accuracy = accuracy_score(y_test, y_pred)\n",
    "print(f\"Model accuracy score: {lr_accuracy:.4f}\")\n",
    "# Calculate and print classification metrics\n",
    "report_lr = classification_report(y_test, y_pred, digits=4)\n",
    "print(\"Logistic Regression Classifier Metrics:\\n\", report_lr)"
   ]
  },
  {
   "cell_type": "code",
   "execution_count": 336,
   "metadata": {},
   "outputs": [
    {
     "data": {
      "image/png": "[encoded data removed]",
      "text/plain": [
       "<Figure size 432x288 with 2 Axes>"
      ]
     },
     "metadata": {
      "needs_background": "light"
     },
     "output_type": "display_data"
    }
   ],
   "source": [
    "from sklearn.metrics import confusion_matrix\n",
    "import seaborn as sns\n",
    "import matplotlib.pyplot as plt\n",
    "\n",
    "# predict labels for test set\n",
    "y_pred = lr.predict(test_X)\n",
    "\n",
    "# create confusion matrix\n",
    "cm = confusion_matrix(y_test, y_pred)\n",
    "cm_matrix = pd.DataFrame(data=cm, columns=['Actual Positive:1', 'Actual Negative:0'], \n",
    "                                 index=['IMPACT:1', 'Not IMPACT:0'])\n",
    "sns.heatmap(cm_matrix, annot=True, fmt='d', cmap='Blues_r')\n",
    "plt.show()"
   ]
  },
  {
   "cell_type": "code",
   "execution_count": 337,
   "metadata": {},
   "outputs": [
    {
     "name": "stdout",
     "output_type": "stream",
     "text": [
      "     Target  Predicted\n",
      "0         1          1\n",
      "1         1          1\n",
      "2         1          1\n",
      "3         1          1\n",
      "4         1          1\n",
      "..      ...        ...\n",
      "194       1          1\n",
      "195       1          0\n",
      "196       0          0\n",
      "197       1          1\n",
      "198       0          0\n",
      "\n",
      "[199 rows x 2 columns]\n"
     ]
    }
   ],
   "source": [
    "# load the saved model from a file\n",
    "lr_loaded = joblib.load('lr_model.joblib')\n",
    "\n",
    "\n",
    "# select a range of rows from the test set\n",
    "test_range = test_X[1:200]\n",
    "\n",
    "# use the loaded model to make predictions on the selected range\n",
    "y_pred_range = lr_loaded.predict(test_range)\n",
    "\n",
    "# print the predicted labels\n",
    "results_range = pd.DataFrame({'Target': y_test[1:200].reshape(-1), 'Predicted': y_pred_range})\n",
    "\n",
    "# print the DataFrame\n",
    "print(results_range)\n"
   ]
  },
  {
   "attachments": {},
   "cell_type": "markdown",
   "metadata": {},
   "source": [
    "# 8- GRADIENT BOOSTING"
   ]
  },
  {
   "cell_type": "code",
   "execution_count": 338,
   "metadata": {},
   "outputs": [
    {
     "name": "stdout",
     "output_type": "stream",
     "text": [
      "Model accuracy on train set: 0.9999\n"
     ]
    },
    {
     "data": {
      "text/plain": [
       "['gb_clf_model.joblib']"
      ]
     },
     "execution_count": 338,
     "metadata": {},
     "output_type": "execute_result"
    }
   ],
   "source": [
    "from sklearn.ensemble import GradientBoostingClassifier\n",
    "from sklearn.metrics import accuracy_score, classification_report\n",
    "import joblib\n",
    "\n",
    "# Train gradient boosting classifier\n",
    "gb_clf = GradientBoostingClassifier(random_state=0, max_depth=5, n_estimators=1000, learning_rate=0.1)\n",
    "gb_clf.fit(train_X, y_train)\n",
    "\n",
    "# evaluate the model accuracy on train set\n",
    "y_train_pred = gb_clf.predict(train_X)\n",
    "accuracy_train = accuracy_score(y_train, y_train_pred)\n",
    "print(f\"Model accuracy on train set: {accuracy_train:.4f}\")\n",
    "# Save the trained gb_clf model\n",
    "joblib.dump(gb_clf, 'gb_clf_model.joblib')"
   ]
  },
  {
   "cell_type": "code",
   "execution_count": 339,
   "metadata": {},
   "outputs": [
    {
     "name": "stdout",
     "output_type": "stream",
     "text": [
      "Model accuracy on validation set: 0.9892\n"
     ]
    }
   ],
   "source": [
    "# evaluate the model in the validation set\n",
    "y_val_pred = gb_clf.predict(val_X)\n",
    "# Evaluate model accuracy on validation set\n",
    "accuracy_val = accuracy_score(y_val, y_val_pred)\n",
    "print(f\"Model accuracy on validation set: {accuracy_val:.4f}\")"
   ]
  },
  {
   "cell_type": "code",
   "execution_count": 340,
   "metadata": {},
   "outputs": [
    {
     "name": "stdout",
     "output_type": "stream",
     "text": [
      "Model accuracy score: 0.9921\n",
      "Gradient Boosting Classifier Metrics:\n",
      "               precision    recall  f1-score   support\n",
      "\n",
      "           0     0.9854    0.9621    0.9736       211\n",
      "           1     0.9933    0.9975    0.9954      1181\n",
      "\n",
      "    accuracy                         0.9921      1392\n",
      "   macro avg     0.9893    0.9798    0.9845      1392\n",
      "weighted avg     0.9921    0.9921    0.9921      1392\n",
      "\n"
     ]
    }
   ],
   "source": [
    "#evaluate the model in the test set\n",
    "y_pred = gb_clf.predict(test_X)\n",
    "# Evaluate model accuracy on test set\n",
    "gb_clf_accuracy = accuracy_score(y_test, y_pred)\n",
    "print(f\"Model accuracy score: {gb_clf_accuracy:.4f}\")\n",
    "# Calculate and print classification metrics\n",
    "report_gb_clf = classification_report(y_test, y_pred, digits=4)\n",
    "print(\"Gradient Boosting Classifier Metrics:\\n\", report_gb_clf)"
   ]
  },
  {
   "cell_type": "code",
   "execution_count": 341,
   "metadata": {},
   "outputs": [
    {
     "data": {
      "image/png": "[encoded data removed]",
      "text/plain": [
       "<Figure size 432x288 with 2 Axes>"
      ]
     },
     "metadata": {
      "needs_background": "light"
     },
     "output_type": "display_data"
    }
   ],
   "source": [
    "from sklearn.metrics import confusion_matrix\n",
    "import seaborn as sns\n",
    "import matplotlib.pyplot as plt\n",
    "\n",
    "# predict labels for test set\n",
    "y_pred = gb_clf.predict(test_X)\n",
    "\n",
    "# create confusion matrix\n",
    "cm = confusion_matrix(y_test, y_pred)\n",
    "cm_matrix = pd.DataFrame(data=cm, columns=['Actual Positive:1', 'Actual Negative:0'], \n",
    "                                 index=['IMPACT:1', 'Not IMPACT:0'])\n",
    "sns.heatmap(cm_matrix, annot=True, fmt='d', cmap='BrBG')\n",
    "plt.show()"
   ]
  },
  {
   "cell_type": "code",
   "execution_count": 342,
   "metadata": {},
   "outputs": [
    {
     "name": "stdout",
     "output_type": "stream",
     "text": [
      "     Target  Predicted\n",
      "0         1          1\n",
      "1         1          1\n",
      "2         1          1\n",
      "3         1          1\n",
      "4         1          1\n",
      "..      ...        ...\n",
      "194       1          1\n",
      "195       1          1\n",
      "196       0          0\n",
      "197       1          1\n",
      "198       0          1\n",
      "\n",
      "[199 rows x 2 columns]\n"
     ]
    }
   ],
   "source": [
    "from sklearn.ensemble import GradientBoostingClassifier\n",
    "import joblib\n",
    "import pandas as pd\n",
    "\n",
    "# load the saved model from a file\n",
    "gb_loaded = joblib.load('gb_model.joblib')\n",
    "\n",
    "\n",
    "# select a range of rows from the test set\n",
    "test_range = test_X[1:200]\n",
    "\n",
    "# use the loaded model to make predictions on the selected range\n",
    "y_pred_range = gb_loaded.predict(test_range)\n",
    "\n",
    "# print the predicted labels\n",
    "results_range = pd.DataFrame({'Target': y_test[1:200].reshape(-1), 'Predicted': y_pred_range})\n",
    "\n",
    "# print the DataFrame\n",
    "print(results_range)"
   ]
  },
  {
   "attachments": {},
   "cell_type": "markdown",
   "metadata": {},
   "source": [
    "# CONFUSION METRIX OF ALL THE ALGORITHMS "
   ]
  },
  {
   "cell_type": "code",
   "execution_count": 343,
   "metadata": {},
   "outputs": [
    {
     "data": {
      "image/png": "[encoded data removed]",
      "text/plain": [
       "<Figure size 1080x576 with 16 Axes>"
      ]
     },
     "metadata": {
      "needs_background": "light"
     },
     "output_type": "display_data"
    }
   ],
   "source": [
    "from sklearn.metrics import confusion_matrix\n",
    "import matplotlib.pyplot as plt\n",
    "import seaborn as sns\n",
    "\n",
    "classifiers = [(\"SVM\", svm_model), (\"Logistic Regression\", lr), (\"Decision Tree\", dtc), \n",
    "               (\"K-Nearest Neighbors\", knn), (\"Gaussian Naive Bayes\", gnb),\n",
    "               (\"Random Forest\", rfc), (\"Stochastic Gradient Descent\", sgd),\n",
    "               (\"Gradient Boosting\", gb_clf)]\n",
    "\n",
    "fig, axs = plt.subplots(nrows=2, ncols=4, figsize=(15, 8))\n",
    "\n",
    "for i, ax in enumerate(axs.flat):\n",
    "    if i < len(classifiers):\n",
    "        clf_name, clf = classifiers[i]\n",
    "        clf.fit(train_X, y_train)  # Fit the classifier with the training data\n",
    "        y_pred = clf.predict(test_X)\n",
    "        cm = confusion_matrix(y_test, y_pred)\n",
    "        cm_matrix = pd.DataFrame(data=cm, columns=['Actual Positive:1', 'Actual Negative:0'], \n",
    "                                 index=['IMPACT:1', 'NOT IMPACT:0'])\n",
    "        sns.heatmap(cm_matrix, annot=True, fmt='d', cmap='Accent_r', ax=ax)\n",
    "        ax.set_title(clf_name)\n",
    "    else:\n",
    "        ax.axis('off')\n",
    "\n",
    "plt.tight_layout()\n",
    "plt.show()\n"
   ]
  },
  {
   "attachments": {},
   "cell_type": "markdown",
   "metadata": {},
   "source": [
    "# ROC_AUC SCORE METRIC"
   ]
  },
  {
   "cell_type": "code",
   "execution_count": 344,
   "metadata": {},
   "outputs": [
    {
     "data": {
      "image/png": "[encoded data removed]",
      "text/plain": [
       "<Figure size 720x720 with 1 Axes>"
      ]
     },
     "metadata": {
      "needs_background": "light"
     },
     "output_type": "display_data"
    }
   ],
   "source": [
    "from sklearn.metrics import roc_curve, roc_auc_score\n",
    "\n",
    "classifiers = [(\"SVM\", svm_model), (\"Logistic Regression\", lr), (\"Decision Tree\", dtc), (\"K-Nearest Neighbors\", knn), (\"Gaussian Naive Bayes\", gnb), (\"Random Forest\", rfc), (\"Stochastic Gradient Descent\", sgd), (\"Gradient Boosting\", gb_clf)]\n",
    "\n",
    "fig, ax = plt.subplots(figsize=(10, 10))\n",
    "\n",
    "for clf_name, clf in classifiers:\n",
    "    if hasattr(clf, \"predict_proba\"):\n",
    "        y_pred_proba = clf.predict_proba(test_X)[:, 1]\n",
    "    else:\n",
    "        y_pred_proba = clf.decision_function(test_X)\n",
    "    fpr, tpr, thresholds = roc_curve(y_test, y_pred_proba)\n",
    "    auc = roc_auc_score(y_test, y_pred_proba)\n",
    "    ax.plot(fpr, tpr, label=f\"{clf_name} (AUC = {auc:.3f})\", linewidth=3)\n",
    "\n",
    "ax.plot([0, 1], [0, 1], linestyle='--', label='Random Guess', linewidth=3)\n",
    "ax.set_xlabel('False Positive Rate', fontsize=16)\n",
    "ax.set_ylabel('True Positive Rate', fontsize=16)\n",
    "ax.legend(fontsize=14)\n",
    "\n",
    "# Increase the size of numerical values on x and y axes\n",
    "ax.tick_params(axis='both', labelsize=12)\n",
    "\n",
    "# Increase the size of the legend\n",
    "legend = ax.legend(fontsize=12)\n",
    "\n",
    "# Remove right and top spines\n",
    "ax.spines['right'].set_visible(False)\n",
    "ax.spines['top'].set_visible(False)\n",
    "ax.grid(False)\n",
    "\n",
    "# Save the figure as PDF with higher DPI for better quality\n",
    "plt.savefig('figure6.pdf', format='pdf', dpi=1200)\n",
    "\n",
    "plt.show()\n"
   ]
  },
  {
   "attachments": {},
   "cell_type": "markdown",
   "metadata": {},
   "source": [
    "# ALGORIHM' PARAMETERS USED "
   ]
  },
  {
   "cell_type": "code",
   "execution_count": 345,
   "metadata": {},
   "outputs": [
    {
     "data": {
      "text/html": [
       "<div>\n",
       "<style scoped>\n",
       "    .dataframe tbody tr th:only-of-type {\n",
       "        vertical-align: middle;\n",
       "    }\n",
       "\n",
       "    .dataframe tbody tr th {\n",
       "        vertical-align: top;\n",
       "    }\n",
       "\n",
       "    .dataframe thead th {\n",
       "        text-align: right;\n",
       "    }\n",
       "</style>\n",
       "<table border=\"1\" class=\"dataframe\">\n",
       "  <thead>\n",
       "    <tr style=\"text-align: right;\">\n",
       "      <th></th>\n",
       "      <th>Algorithm</th>\n",
       "      <th>Parameters</th>\n",
       "    </tr>\n",
       "  </thead>\n",
       "  <tbody>\n",
       "    <tr>\n",
       "      <th>0</th>\n",
       "      <td>SVM</td>\n",
       "      <td>{'C': 1.0, 'kernel': 'rbf', 'gamma': 'scale'}</td>\n",
       "    </tr>\n",
       "    <tr>\n",
       "      <th>1</th>\n",
       "      <td>Logistic Regression</td>\n",
       "      <td>{'C': 1.0, 'solver': 'lbfgs'}</td>\n",
       "    </tr>\n",
       "    <tr>\n",
       "      <th>2</th>\n",
       "      <td>Decision Tree</td>\n",
       "      <td>{'criterion': 'gini', 'max_depth': None}</td>\n",
       "    </tr>\n",
       "    <tr>\n",
       "      <th>3</th>\n",
       "      <td>K-Nearest Neighbors</td>\n",
       "      <td>{'n_neighbors': 5, 'weights': 'uniform'}</td>\n",
       "    </tr>\n",
       "    <tr>\n",
       "      <th>4</th>\n",
       "      <td>Gaussian Naive Bayes</td>\n",
       "      <td>{}</td>\n",
       "    </tr>\n",
       "    <tr>\n",
       "      <th>5</th>\n",
       "      <td>Random Forest</td>\n",
       "      <td>{'n_estimators': 100, 'criterion': 'gini'}</td>\n",
       "    </tr>\n",
       "    <tr>\n",
       "      <th>6</th>\n",
       "      <td>Stochastic Gradient Descent</td>\n",
       "      <td>{'alpha': 0.0001, 'max_iter': 1000}</td>\n",
       "    </tr>\n",
       "    <tr>\n",
       "      <th>7</th>\n",
       "      <td>Gradient Boosting</td>\n",
       "      <td>{'n_estimators': 100, 'learning_rate': 0.1}</td>\n",
       "    </tr>\n",
       "  </tbody>\n",
       "</table>\n",
       "</div>"
      ],
      "text/plain": [
       "                     Algorithm                                     Parameters\n",
       "0                          SVM  {'C': 1.0, 'kernel': 'rbf', 'gamma': 'scale'}\n",
       "1          Logistic Regression                  {'C': 1.0, 'solver': 'lbfgs'}\n",
       "2                Decision Tree       {'criterion': 'gini', 'max_depth': None}\n",
       "3          K-Nearest Neighbors       {'n_neighbors': 5, 'weights': 'uniform'}\n",
       "4         Gaussian Naive Bayes                                             {}\n",
       "5                Random Forest     {'n_estimators': 100, 'criterion': 'gini'}\n",
       "6  Stochastic Gradient Descent            {'alpha': 0.0001, 'max_iter': 1000}\n",
       "7            Gradient Boosting    {'n_estimators': 100, 'learning_rate': 0.1}"
      ]
     },
     "metadata": {},
     "output_type": "display_data"
    },
    {
     "data": {
      "text/html": [
       "<div>\n",
       "<style scoped>\n",
       "    .dataframe tbody tr th:only-of-type {\n",
       "        vertical-align: middle;\n",
       "    }\n",
       "\n",
       "    .dataframe tbody tr th {\n",
       "        vertical-align: top;\n",
       "    }\n",
       "\n",
       "    .dataframe thead th {\n",
       "        text-align: right;\n",
       "    }\n",
       "</style>\n",
       "<table border=\"1\" class=\"dataframe\">\n",
       "  <thead>\n",
       "    <tr style=\"text-align: right;\">\n",
       "      <th></th>\n",
       "      <th>Algorithm</th>\n",
       "      <th>Parameters</th>\n",
       "    </tr>\n",
       "  </thead>\n",
       "  <tbody>\n",
       "    <tr>\n",
       "      <th>0</th>\n",
       "      <td>SVM</td>\n",
       "      <td>{'C': 1.0, 'kernel': 'rbf', 'gamma': 'scale'}</td>\n",
       "    </tr>\n",
       "    <tr>\n",
       "      <th>1</th>\n",
       "      <td>Logistic Regression</td>\n",
       "      <td>{'C': 1.0, 'solver': 'lbfgs'}</td>\n",
       "    </tr>\n",
       "    <tr>\n",
       "      <th>2</th>\n",
       "      <td>Decision Tree</td>\n",
       "      <td>{'criterion': 'gini', 'max_depth': None}</td>\n",
       "    </tr>\n",
       "    <tr>\n",
       "      <th>3</th>\n",
       "      <td>K-Nearest Neighbors</td>\n",
       "      <td>{'n_neighbors': 5, 'weights': 'uniform'}</td>\n",
       "    </tr>\n",
       "    <tr>\n",
       "      <th>4</th>\n",
       "      <td>Gaussian Naive Bayes</td>\n",
       "      <td>{}</td>\n",
       "    </tr>\n",
       "    <tr>\n",
       "      <th>5</th>\n",
       "      <td>Random Forest</td>\n",
       "      <td>{'n_estimators': 100, 'criterion': 'gini'}</td>\n",
       "    </tr>\n",
       "    <tr>\n",
       "      <th>6</th>\n",
       "      <td>Stochastic Gradient Descent</td>\n",
       "      <td>{'alpha': 0.0001, 'max_iter': 1000}</td>\n",
       "    </tr>\n",
       "    <tr>\n",
       "      <th>7</th>\n",
       "      <td>Gradient Boosting</td>\n",
       "      <td>{'n_estimators': 100, 'learning_rate': 0.1}</td>\n",
       "    </tr>\n",
       "  </tbody>\n",
       "</table>\n",
       "</div>"
      ],
      "text/plain": [
       "                     Algorithm                                     Parameters\n",
       "0                          SVM  {'C': 1.0, 'kernel': 'rbf', 'gamma': 'scale'}\n",
       "1          Logistic Regression                  {'C': 1.0, 'solver': 'lbfgs'}\n",
       "2                Decision Tree       {'criterion': 'gini', 'max_depth': None}\n",
       "3          K-Nearest Neighbors       {'n_neighbors': 5, 'weights': 'uniform'}\n",
       "4         Gaussian Naive Bayes                                             {}\n",
       "5                Random Forest     {'n_estimators': 100, 'criterion': 'gini'}\n",
       "6  Stochastic Gradient Descent            {'alpha': 0.0001, 'max_iter': 1000}\n",
       "7            Gradient Boosting    {'n_estimators': 100, 'learning_rate': 0.1}"
      ]
     },
     "metadata": {},
     "output_type": "display_data"
    }
   ],
   "source": [
    "import pandas as pd\n",
    "\n",
    "classifiers = [(\"SVM\", svm_model, {'C': 1.0, 'kernel': 'rbf', 'gamma': 'scale'}),\n",
    "               (\"Logistic Regression\", lr, {'C': 1.0, 'solver': 'lbfgs'}),\n",
    "               (\"Decision Tree\", dtc, {'criterion': 'gini', 'max_depth': None}),\n",
    "               (\"K-Nearest Neighbors\", knn, {'n_neighbors': 5, 'weights': 'uniform'}),\n",
    "               (\"Gaussian Naive Bayes\", gnb, {}),\n",
    "               (\"Random Forest\", rfc, {'n_estimators': 100, 'criterion': 'gini'}),\n",
    "               (\"Stochastic Gradient Descent\", sgd, {'alpha': 0.0001, 'max_iter': 1000}),\n",
    "               (\"Gradient Boosting\", gb_clf, {'n_estimators': 100, 'learning_rate': 0.1})]\n",
    "\n",
    "# Create an empty DataFrame to store the parameters\n",
    "parameters_df = pd.DataFrame(columns=['Algorithm', 'Parameters'])\n",
    "\n",
    "# Iterate over the classifiers and extract the parameters\n",
    "for clf_name, clf, params in classifiers:\n",
    "    parameters_df = parameters_df.append({'Algorithm': clf_name, 'Parameters': params}, ignore_index=True)\n",
    "\n",
    "# Display the parameters DataFrame\n",
    "display(parameters_df)\n",
    "\n",
    "#give a table of the parameters for each model\n",
    "table = pd.DataFrame(columns=['Algorithm', 'Parameters'])\n",
    "for clf_name, clf, params in classifiers:\n",
    "    table = table.append({'Algorithm': clf_name, 'Parameters': params}, ignore_index=True)\n",
    "display(table)\n"
   ]
  },
  {
   "attachments": {},
   "cell_type": "markdown",
   "metadata": {},
   "source": [
    "# MODEL TRAINING TIME "
   ]
  },
  {
   "cell_type": "code",
   "execution_count": 346,
   "metadata": {},
   "outputs": [
    {
     "data": {
      "text/html": [
       "<div>\n",
       "<style scoped>\n",
       "    .dataframe tbody tr th:only-of-type {\n",
       "        vertical-align: middle;\n",
       "    }\n",
       "\n",
       "    .dataframe tbody tr th {\n",
       "        vertical-align: top;\n",
       "    }\n",
       "\n",
       "    .dataframe thead th {\n",
       "        text-align: right;\n",
       "    }\n",
       "</style>\n",
       "<table border=\"1\" class=\"dataframe\">\n",
       "  <thead>\n",
       "    <tr style=\"text-align: right;\">\n",
       "      <th></th>\n",
       "      <th>Algorithm</th>\n",
       "      <th>Training Time</th>\n",
       "    </tr>\n",
       "  </thead>\n",
       "  <tbody>\n",
       "    <tr>\n",
       "      <th>0</th>\n",
       "      <td>SVM</td>\n",
       "      <td>0.074924</td>\n",
       "    </tr>\n",
       "    <tr>\n",
       "      <th>1</th>\n",
       "      <td>Logistic Regression</td>\n",
       "      <td>0.012930</td>\n",
       "    </tr>\n",
       "    <tr>\n",
       "      <th>2</th>\n",
       "      <td>Decision Tree</td>\n",
       "      <td>0.031232</td>\n",
       "    </tr>\n",
       "    <tr>\n",
       "      <th>3</th>\n",
       "      <td>K-Nearest Neighbors</td>\n",
       "      <td>0.006551</td>\n",
       "    </tr>\n",
       "    <tr>\n",
       "      <th>4</th>\n",
       "      <td>Gaussian Naive Bayes</td>\n",
       "      <td>0.001999</td>\n",
       "    </tr>\n",
       "    <tr>\n",
       "      <th>5</th>\n",
       "      <td>Random Forest</td>\n",
       "      <td>0.637380</td>\n",
       "    </tr>\n",
       "    <tr>\n",
       "      <th>6</th>\n",
       "      <td>Stochastic Gradient Descent</td>\n",
       "      <td>0.006854</td>\n",
       "    </tr>\n",
       "    <tr>\n",
       "      <th>7</th>\n",
       "      <td>Gradient Boosting</td>\n",
       "      <td>14.269353</td>\n",
       "    </tr>\n",
       "  </tbody>\n",
       "</table>\n",
       "</div>"
      ],
      "text/plain": [
       "                     Algorithm  Training Time\n",
       "0                          SVM       0.074924\n",
       "1          Logistic Regression       0.012930\n",
       "2                Decision Tree       0.031232\n",
       "3          K-Nearest Neighbors       0.006551\n",
       "4         Gaussian Naive Bayes       0.001999\n",
       "5                Random Forest       0.637380\n",
       "6  Stochastic Gradient Descent       0.006854\n",
       "7            Gradient Boosting      14.269353"
      ]
     },
     "metadata": {},
     "output_type": "display_data"
    }
   ],
   "source": [
    "import time\n",
    "\n",
    "classifiers = [(\"SVM\", svm_model), (\"Logistic Regression\", lr), (\"Decision Tree\", dtc),\n",
    "               (\"K-Nearest Neighbors\", knn), (\"Gaussian Naive Bayes\", gnb),\n",
    "               (\"Random Forest\", rfc), (\"Stochastic Gradient Descent\", sgd),\n",
    "               (\"Gradient Boosting\", gb_clf)]\n",
    "\n",
    "# Create an empty DataFrame to store the training times\n",
    "training_time_df = pd.DataFrame(columns=['Algorithm', 'Training Time'])\n",
    "\n",
    "# Iterate over the classifiers and measure the training time\n",
    "for clf_name, clf in classifiers:\n",
    "    start_time = time.time()\n",
    "    clf.fit(train_X, y_train)\n",
    "    end_time = time.time()\n",
    "    training_time = end_time - start_time\n",
    "    training_time_df = training_time_df.append({'Algorithm': clf_name, 'Training Time': training_time}, ignore_index=True)\n",
    "\n",
    "# Display the training time DataFrame\n",
    "display(training_time_df)\n"
   ]
  },
  {
   "attachments": {},
   "cell_type": "markdown",
   "metadata": {},
   "source": [
    "#  MODEL' TIME INFERENCE"
   ]
  },
  {
   "cell_type": "code",
   "execution_count": 347,
   "metadata": {},
   "outputs": [
    {
     "data": {
      "text/html": [
       "<div>\n",
       "<style scoped>\n",
       "    .dataframe tbody tr th:only-of-type {\n",
       "        vertical-align: middle;\n",
       "    }\n",
       "\n",
       "    .dataframe tbody tr th {\n",
       "        vertical-align: top;\n",
       "    }\n",
       "\n",
       "    .dataframe thead th {\n",
       "        text-align: right;\n",
       "    }\n",
       "</style>\n",
       "<table border=\"1\" class=\"dataframe\">\n",
       "  <thead>\n",
       "    <tr style=\"text-align: right;\">\n",
       "      <th></th>\n",
       "      <th>Algorithm</th>\n",
       "      <th>Inference Time</th>\n",
       "    </tr>\n",
       "  </thead>\n",
       "  <tbody>\n",
       "    <tr>\n",
       "      <th>0</th>\n",
       "      <td>SVM</td>\n",
       "      <td>0.004003</td>\n",
       "    </tr>\n",
       "    <tr>\n",
       "      <th>1</th>\n",
       "      <td>Logistic Regression</td>\n",
       "      <td>0.000000</td>\n",
       "    </tr>\n",
       "    <tr>\n",
       "      <th>2</th>\n",
       "      <td>Decision Tree</td>\n",
       "      <td>0.000000</td>\n",
       "    </tr>\n",
       "    <tr>\n",
       "      <th>3</th>\n",
       "      <td>K-Nearest Neighbors</td>\n",
       "      <td>0.020053</td>\n",
       "    </tr>\n",
       "    <tr>\n",
       "      <th>4</th>\n",
       "      <td>Gaussian Naive Bayes</td>\n",
       "      <td>0.000000</td>\n",
       "    </tr>\n",
       "    <tr>\n",
       "      <th>5</th>\n",
       "      <td>Random Forest</td>\n",
       "      <td>0.010033</td>\n",
       "    </tr>\n",
       "    <tr>\n",
       "      <th>6</th>\n",
       "      <td>Stochastic Gradient Descent</td>\n",
       "      <td>0.000000</td>\n",
       "    </tr>\n",
       "    <tr>\n",
       "      <th>7</th>\n",
       "      <td>Gradient Boosting</td>\n",
       "      <td>0.017604</td>\n",
       "    </tr>\n",
       "  </tbody>\n",
       "</table>\n",
       "</div>"
      ],
      "text/plain": [
       "                     Algorithm  Inference Time\n",
       "0                          SVM        0.004003\n",
       "1          Logistic Regression        0.000000\n",
       "2                Decision Tree        0.000000\n",
       "3          K-Nearest Neighbors        0.020053\n",
       "4         Gaussian Naive Bayes        0.000000\n",
       "5                Random Forest        0.010033\n",
       "6  Stochastic Gradient Descent        0.000000\n",
       "7            Gradient Boosting        0.017604"
      ]
     },
     "metadata": {},
     "output_type": "display_data"
    }
   ],
   "source": [
    "import time\n",
    "\n",
    "classifiers = [(\"SVM\", svm_model), (\"Logistic Regression\", lr), (\"Decision Tree\", dtc),\n",
    "               (\"K-Nearest Neighbors\", knn), (\"Gaussian Naive Bayes\", gnb),\n",
    "               (\"Random Forest\", rfc), (\"Stochastic Gradient Descent\", sgd),\n",
    "               (\"Gradient Boosting\", gb_clf)]\n",
    "\n",
    "# Create an empty DataFrame to store the inference times\n",
    "inference_time_df = pd.DataFrame(columns=['Algorithm', 'Inference Time'])\n",
    "\n",
    "# Iterate over the classifiers and measure the inference time\n",
    "for clf_name, clf in classifiers:\n",
    "    start_time = time.time()\n",
    "    clf.predict(test_X)\n",
    "    end_time = time.time()\n",
    "    inference_time = end_time - start_time\n",
    "    inference_time_df = inference_time_df.append({'Algorithm': clf_name, 'Inference Time': inference_time}, ignore_index=True)\n",
    "\n",
    "# Display the inference time DataFrame\n",
    "display(inference_time_df)\n"
   ]
  },
  {
   "cell_type": "code",
   "execution_count": null,
   "metadata": {},
   "outputs": [],
   "source": []
  },
  {
   "cell_type": "code",
   "execution_count": null,
   "metadata": {},
   "outputs": [],
   "source": []
  },
  {
   "cell_type": "code",
   "execution_count": null,
   "metadata": {},
   "outputs": [],
   "source": []
  },
  {
   "attachments": {},
   "cell_type": "markdown",
   "metadata": {},
   "source": [
    "# KNN"
   ]
  },
  {
   "cell_type": "code",
   "execution_count": 16,
   "metadata": {},
   "outputs": [
    {
     "name": "stdout",
     "output_type": "stream",
     "text": [
      "Fold 1 Training Accuracy: 0.9989, F1 Score: 0.9989\n",
      "Fold 1 Validation Accuracy: 0.7769, F1 Score: 0.7637\n",
      "Fold 2 Training Accuracy: 0.9987, F1 Score: 0.9987\n",
      "Fold 2 Validation Accuracy: 0.7543, F1 Score: 0.7496\n",
      "Fold 3 Training Accuracy: 0.9989, F1 Score: 0.9989\n",
      "Fold 3 Validation Accuracy: 0.7648, F1 Score: 0.7539\n",
      "Fold 4 Training Accuracy: 0.9996, F1 Score: 0.9996\n",
      "Fold 4 Validation Accuracy: 0.7535, F1 Score: 0.7441\n",
      "Fold 5 Training Accuracy: 0.9991, F1 Score: 0.9991\n",
      "Fold 5 Validation Accuracy: 0.7628, F1 Score: 0.7562\n",
      "Average Training Accuracy for KNN: 0.9990, F1 Score: 0.9990\n",
      "Average Validation Accuracy for KNN: 0.7625, F1 Score: 0.7535\n",
      "Test Accuracy for KNN: 0.7333, F1 Score: 0.7230\n"
     ]
    }
   ],
   "source": [
    "import pandas as pd\n",
    "from sklearn.model_selection import StratifiedKFold, GridSearchCV, train_test_split\n",
    "from sklearn.neighbors import KNeighborsClassifier\n",
    "from sklearn.metrics import accuracy_score, f1_score\n",
    "import numpy as np\n",
    "\n",
    "# Load the dataset from the specified path\n",
    "data_path = r\"C:\\Users\\ytkoffi\\Desktop\\METHOD2SMV\\POSEDATA_SMV\\S5\\data51.csv\"\n",
    "data = pd.read_csv(data_path)\n",
    "\n",
    "# Assuming the last column is the label\n",
    "X = data.iloc[:, :-1]  # Features\n",
    "y = data.iloc[:, -1]   # Label\n",
    "\n",
    "# Split the dataset into training + validation and test sets\n",
    "X_train_val, X_test, y_train_val, y_test = train_test_split(X, y, test_size=0.2, random_state=42)\n",
    "\n",
    "# Initialize the StratifiedKFold object\n",
    "n_splits = 5\n",
    "skf = StratifiedKFold(n_splits=n_splits, shuffle=True, random_state=42)\n",
    "\n",
    "# Define KNN model and parameters for GridSearch\n",
    "knn = KNeighborsClassifier()\n",
    "param_grid = {\n",
    "    'n_neighbors': [3, 5, 7],\n",
    "    'weights': ['uniform', 'distance'],\n",
    "    'p': [1, 2]\n",
    "}\n",
    "grid_search = GridSearchCV(estimator=knn, param_grid=param_grid, cv=skf, scoring='accuracy', n_jobs=-1)\n",
    "\n",
    "# Initialize lists to hold accuracy and F1 scores\n",
    "train_accuracies = []\n",
    "val_accuracies = []\n",
    "train_f1_scores = []\n",
    "val_f1_scores = []\n",
    "\n",
    "# Perform Stratified K-Fold Cross Validation with GridSearch\n",
    "for fold, (train_index, val_index) in enumerate(skf.split(X_train_val, y_train_val)):\n",
    "    X_train, X_val = X_train_val.iloc[train_index], X_train_val.iloc[val_index]\n",
    "    y_train, y_val = y_train_val.iloc[train_index], y_train_val.iloc[val_index]\n",
    "\n",
    "    # Fit the GridSearchCV object\n",
    "    grid_search.fit(X_train, y_train)\n",
    "    \n",
    "    # Best model\n",
    "    best_knn = grid_search.best_estimator_\n",
    "\n",
    "    # Calculate training accuracy and F1 score\n",
    "    y_train_pred = best_knn.predict(X_train)\n",
    "    train_accuracy = accuracy_score(y_train, y_train_pred)\n",
    "    train_f1 = f1_score(y_train, y_train_pred, average='weighted')\n",
    "    train_accuracies.append(train_accuracy)\n",
    "    train_f1_scores.append(train_f1)\n",
    "    \n",
    "    # Make predictions and calculate validation accuracy and F1 score\n",
    "    y_val_pred = best_knn.predict(X_val)\n",
    "    val_accuracy = accuracy_score(y_val, y_val_pred)\n",
    "    val_f1 = f1_score(y_val, y_val_pred, average='weighted')\n",
    "    val_accuracies.append(val_accuracy)\n",
    "    val_f1_scores.append(val_f1)\n",
    "    \n",
    "    # Print training and validation accuracy and F1 score for the current fold\n",
    "    print(f'Fold {fold + 1} Training Accuracy: {train_accuracy:.4f}, F1 Score: {train_f1:.4f}')\n",
    "    print(f'Fold {fold + 1} Validation Accuracy: {val_accuracy:.4f}, F1 Score: {val_f1:.4f}')\n",
    "\n",
    "# Calculate average accuracies and F1 scores\n",
    "average_train_accuracy = np.mean(train_accuracies)\n",
    "average_val_accuracy = np.mean(val_accuracies)\n",
    "average_train_f1 = np.mean(train_f1_scores)\n",
    "average_val_f1 = np.mean(val_f1_scores)\n",
    "\n",
    "# Print average accuracies and F1 scores\n",
    "print(f'Average Training Accuracy for KNN: {average_train_accuracy:.4f}, F1 Score: {average_train_f1:.4f}')\n",
    "print(f'Average Validation Accuracy for KNN: {average_val_accuracy:.4f}, F1 Score: {average_val_f1:.4f}')\n",
    "\n",
    "# Evaluate the best model on the test set\n",
    "best_knn = grid_search.best_estimator_\n",
    "y_test_pred = best_knn.predict(X_test)\n",
    "test_accuracy = accuracy_score(y_test, y_test_pred)\n",
    "test_f1 = f1_score(y_test, y_test_pred, average='weighted')\n",
    "\n",
    "# Print test accuracy and F1 score\n",
    "print(f'Test Accuracy for KNN: {test_accuracy:.4f}, F1 Score: {test_f1:.4f}')\n"
   ]
  },
  {
   "attachments": {},
   "cell_type": "markdown",
   "metadata": {},
   "source": [
    "# SVM"
   ]
  },
  {
   "cell_type": "code",
   "execution_count": 20,
   "metadata": {},
   "outputs": [
    {
     "name": "stdout",
     "output_type": "stream",
     "text": [
      "Fold 1 Training Accuracy: 0.7020, F1 Score: 0.5959\n",
      "Fold 1 Validation Accuracy: 0.6979, F1 Score: 0.5907\n",
      "Fold 2 Training Accuracy: 0.6992, F1 Score: 0.5883\n",
      "Fold 2 Validation Accuracy: 0.7031, F1 Score: 0.5958\n",
      "Fold 3 Training Accuracy: 0.7035, F1 Score: 0.5973\n",
      "Fold 3 Validation Accuracy: 0.6936, F1 Score: 0.5792\n",
      "Fold 4 Training Accuracy: 0.6987, F1 Score: 0.5866\n",
      "Fold 4 Validation Accuracy: 0.6997, F1 Score: 0.5897\n",
      "Fold 5 Training Accuracy: 0.7003, F1 Score: 0.5909\n",
      "Fold 5 Validation Accuracy: 0.7037, F1 Score: 0.5966\n",
      "Average Training Accuracy for SVM: 0.7007, F1 Score: 0.5918\n",
      "Average Validation Accuracy for SVM: 0.6996, F1 Score: 0.5904\n",
      "Test Accuracy for SVM: 0.6958, F1 Score: 0.5831\n"
     ]
    }
   ],
   "source": [
    "import pandas as pd\n",
    "from sklearn.model_selection import StratifiedKFold, GridSearchCV, train_test_split\n",
    "from sklearn.svm import SVC\n",
    "from sklearn.metrics import accuracy_score, f1_score\n",
    "import numpy as np\n",
    "\n",
    "# Load the dataset from the specified path\n",
    "data_path = r\"C:\\Users\\ytkoffi\\Desktop\\METHOD2SMV\\POSEDATA_SMV\\S5\\data511.csv\"\n",
    "data = pd.read_csv(data_path)\n",
    "\n",
    "# Assuming the last column is the label\n",
    "X = data.iloc[:, :-1]  # Features\n",
    "y = data.iloc[:, -1]   # Label\n",
    "\n",
    "# Split the dataset into training + validation and test sets\n",
    "X_train_val, X_test, y_train_val, y_test = train_test_split(X, y, test_size=0.2, random_state=42)\n",
    "\n",
    "# Initialize the StratifiedKFold object\n",
    "n_splits = 5\n",
    "skf = StratifiedKFold(n_splits=n_splits, shuffle=True, random_state=42)\n",
    "\n",
    "# Define SVM model and parameters for GridSearch\n",
    "svm = SVC(random_state=42)\n",
    "param_grid = {\n",
    "    'C': [0.1, 1, 10],\n",
    "    'kernel': ['linear', 'rbf', 'poly'],\n",
    "    'gamma': ['scale', 'auto']  # Only applicable for 'rbf' and 'poly'\n",
    "}\n",
    "grid_search = GridSearchCV(estimator=svm, param_grid=param_grid, cv=skf, scoring='accuracy', n_jobs=-1)\n",
    "\n",
    "# Initialize lists to hold accuracy and F1 scores\n",
    "train_accuracies = []\n",
    "val_accuracies = []\n",
    "train_f1_scores = []\n",
    "val_f1_scores = []\n",
    "\n",
    "# Perform Stratified K-Fold Cross Validation with GridSearch\n",
    "for fold, (train_index, val_index) in enumerate(skf.split(X_train_val, y_train_val)):\n",
    "    X_train, X_val = X_train_val.iloc[train_index], X_train_val.iloc[val_index]\n",
    "    y_train, y_val = y_train_val.iloc[train_index], y_train_val.iloc[val_index]\n",
    "\n",
    "    # Fit the GridSearchCV object\n",
    "    grid_search.fit(X_train, y_train)\n",
    "    \n",
    "    # Best model\n",
    "    best_svm = grid_search.best_estimator_\n",
    "\n",
    "    # Calculate training accuracy and F1 score\n",
    "    y_train_pred = best_svm.predict(X_train)\n",
    "    train_accuracy = accuracy_score(y_train, y_train_pred)\n",
    "    train_f1 = f1_score(y_train, y_train_pred, average='weighted')\n",
    "    train_accuracies.append(train_accuracy)\n",
    "    train_f1_scores.append(train_f1)\n",
    "    \n",
    "    # Make predictions and calculate validation accuracy and F1 score\n",
    "    y_val_pred = best_svm.predict(X_val)\n",
    "    val_accuracy = accuracy_score(y_val, y_val_pred)\n",
    "    val_f1 = f1_score(y_val, y_val_pred, average='weighted')\n",
    "    val_accuracies.append(val_accuracy)\n",
    "    val_f1_scores.append(val_f1)\n",
    "    \n",
    "    # Print training and validation accuracy and F1 score for the current fold\n",
    "    print(f'Fold {fold + 1} Training Accuracy: {train_accuracy:.4f}, F1 Score: {train_f1:.4f}')\n",
    "    print(f'Fold {fold + 1} Validation Accuracy: {val_accuracy:.4f}, F1 Score: {val_f1:.4f}')\n",
    "\n",
    "# Calculate average accuracies and F1 scores\n",
    "average_train_accuracy = np.mean(train_accuracies)\n",
    "average_val_accuracy = np.mean(val_accuracies)\n",
    "average_train_f1 = np.mean(train_f1_scores)\n",
    "average_val_f1 = np.mean(val_f1_scores)\n",
    "\n",
    "# Print average accuracies and F1 scores\n",
    "print(f'Average Training Accuracy for SVM: {average_train_accuracy:.4f}, F1 Score: {average_train_f1:.4f}')\n",
    "print(f'Average Validation Accuracy for SVM: {average_val_accuracy:.4f}, F1 Score: {average_val_f1:.4f}')\n",
    "\n",
    "# Evaluate the best model on the test set\n",
    "best_svm = grid_search.best_estimator_\n",
    "y_test_pred = best_svm.predict(X_test)\n",
    "test_accuracy = accuracy_score(y_test, y_test_pred)\n",
    "test_f1 = f1_score(y_test, y_test_pred, average='weighted')\n",
    "\n",
    "# Print test accuracy and F1 score\n",
    "print(f'Test Accuracy for SVM: {test_accuracy:.4f}, F1 Score: {test_f1:.4f}')\n"
   ]
  },
  {
   "attachments": {},
   "cell_type": "markdown",
   "metadata": {},
   "source": [
    "# MLP"
   ]
  },
  {
   "cell_type": "code",
   "execution_count": 19,
   "metadata": {},
   "outputs": [
    {
     "name": "stdout",
     "output_type": "stream",
     "text": [
      "Fold 1 Training Accuracy: 0.6979, F1 Score: 0.5795\n",
      "Fold 1 Validation Accuracy: 0.6962, F1 Score: 0.5741\n",
      "Fold 2 Training Accuracy: 0.6994, F1 Score: 0.5995\n",
      "Fold 2 Validation Accuracy: 0.6962, F1 Score: 0.6013\n",
      "Fold 3 Training Accuracy: 0.6942, F1 Score: 0.5688\n",
      "Fold 3 Validation Accuracy: 0.6944, F1 Score: 0.5692\n",
      "Fold 4 Training Accuracy: 0.6987, F1 Score: 0.5824\n",
      "Fold 4 Validation Accuracy: 0.7031, F1 Score: 0.5905\n",
      "Fold 5 Training Accuracy: 0.6992, F1 Score: 0.5857\n",
      "Fold 5 Validation Accuracy: 0.6950, F1 Score: 0.5816\n",
      "Average Training Accuracy for MLP: 0.6979, F1 Score: 0.5832\n",
      "Average Validation Accuracy for MLP: 0.6970, F1 Score: 0.5833\n",
      "Test Accuracy for MLP: 0.6694, F1 Score: 0.5510\n"
     ]
    }
   ],
   "source": [
    "import pandas as pd\n",
    "from sklearn.model_selection import StratifiedKFold, GridSearchCV, train_test_split\n",
    "from sklearn.neural_network import MLPClassifier\n",
    "from sklearn.metrics import accuracy_score, f1_score\n",
    "import numpy as np\n",
    "\n",
    "# Load the dataset from the specified path\n",
    "data_path = r\"C:\\Users\\ytkoffi\\Desktop\\METHOD2SMV\\POSEDATA_SMV\\S5\\data51.csv\"\n",
    "data = pd.read_csv(data_path)\n",
    "\n",
    "# Assuming the last column is the label\n",
    "X = data.iloc[:, :-1]  # Features\n",
    "y = data.iloc[:, -1]   # Label\n",
    "\n",
    "# Split the dataset into training + validation and test sets\n",
    "X_train_val, X_test, y_train_val, y_test = train_test_split(X, y, test_size=0.2, random_state=42)\n",
    "\n",
    "# Initialize the StratifiedKFold object\n",
    "n_splits = 5\n",
    "skf = StratifiedKFold(n_splits=n_splits, shuffle=True, random_state=42)\n",
    "\n",
    "# Define MLP model and parameters for GridSearch\n",
    "mlp = MLPClassifier(max_iter=500, random_state=42)\n",
    "param_grid = {\n",
    "    'hidden_layer_sizes': [(50,), (100,), (50, 50)],\n",
    "    'activation': ['tanh', 'relu'],\n",
    "    'solver': ['adam', 'sgd']\n",
    "}\n",
    "grid_search = GridSearchCV(estimator=mlp, param_grid=param_grid, cv=skf, scoring='accuracy', n_jobs=-1)\n",
    "\n",
    "# Initialize lists to hold accuracy and F1 scores\n",
    "train_accuracies = []\n",
    "val_accuracies = []\n",
    "train_f1_scores = []\n",
    "val_f1_scores = []\n",
    "\n",
    "# Perform Stratified K-Fold Cross Validation with GridSearch\n",
    "for fold, (train_index, val_index) in enumerate(skf.split(X_train_val, y_train_val)):\n",
    "    X_train, X_val = X_train_val.iloc[train_index], X_train_val.iloc[val_index]\n",
    "    y_train, y_val = y_train_val.iloc[train_index], y_train_val.iloc[val_index]\n",
    "\n",
    "    # Fit the GridSearchCV object\n",
    "    grid_search.fit(X_train, y_train)\n",
    "    \n",
    "    # Best model\n",
    "    best_mlp = grid_search.best_estimator_\n",
    "\n",
    "    # Calculate training accuracy and F1 score\n",
    "    y_train_pred = best_mlp.predict(X_train)\n",
    "    train_accuracy = accuracy_score(y_train, y_train_pred)\n",
    "    train_f1 = f1_score(y_train, y_train_pred, average='weighted')\n",
    "    train_accuracies.append(train_accuracy)\n",
    "    train_f1_scores.append(train_f1)\n",
    "    \n",
    "    # Make predictions and calculate validation accuracy and F1 score\n",
    "    y_val_pred = best_mlp.predict(X_val)\n",
    "    val_accuracy = accuracy_score(y_val, y_val_pred)\n",
    "    val_f1 = f1_score(y_val, y_val_pred, average='weighted')\n",
    "    val_accuracies.append(val_accuracy)\n",
    "    val_f1_scores.append(val_f1)\n",
    "    \n",
    "    # Print training and validation accuracy and F1 score for the current fold\n",
    "    print(f'Fold {fold + 1} Training Accuracy: {train_accuracy:.4f}, F1 Score: {train_f1:.4f}')\n",
    "    print(f'Fold {fold + 1} Validation Accuracy: {val_accuracy:.4f}, F1 Score: {val_f1:.4f}')\n",
    "\n",
    "# Calculate average accuracies and F1 scores\n",
    "average_train_accuracy = np.mean(train_accuracies)\n",
    "average_val_accuracy = np.mean(val_accuracies)\n",
    "average_train_f1 = np.mean(train_f1_scores)\n",
    "average_val_f1 = np.mean(val_f1_scores)\n",
    "\n",
    "# Print average accuracies and F1 scores\n",
    "print(f'Average Training Accuracy for MLP: {average_train_accuracy:.4f}, F1 Score: {average_train_f1:.4f}')\n",
    "print(f'Average Validation Accuracy for MLP: {average_val_accuracy:.4f}, F1 Score: {average_val_f1:.4f}')\n",
    "\n",
    "# Evaluate the best model on the test set\n",
    "best_mlp = grid_search.best_estimator_\n",
    "y_test_pred = best_mlp.predict(X_test)\n",
    "test_accuracy = accuracy_score(y_test, y_test_pred)\n",
    "test_f1 = f1_score(y_test, y_test_pred, average='weighted')\n",
    "\n",
    "# Print test accuracy and F1 score\n",
    "print(f'Test Accuracy for MLP: {test_accuracy:.4f}, F1 Score: {test_f1:.4f}')\n"
   ]
  },
  {
   "cell_type": "code",
   "execution_count": null,
   "metadata": {},
   "outputs": [],
   "source": []
  },
  {
   "cell_type": "code",
   "execution_count": null,
   "metadata": {},
   "outputs": [],
   "source": []
  },
  {
   "cell_type": "code",
   "execution_count": null,
   "metadata": {},
   "outputs": [],
   "source": []
  },
  {
   "cell_type": "code",
   "execution_count": null,
   "metadata": {},
   "outputs": [],
   "source": []
  },
  {
   "cell_type": "markdown",
   "metadata": {},
   "source": []
  },
  {
   "cell_type": "code",
   "execution_count": null,
   "metadata": {},
   "outputs": [],
   "source": [
    "import os\n",
    "import pandas as pd\n",
    "import numpy as np\n",
    "import tensorflow as tf\n",
    "import matplotlib.pyplot as plt\n",
    "from tensorflow.keras import layers, Model, optimizers\n",
    "from tensorflow.keras.callbacks import EarlyStopping, ReduceLROnPlateau\n",
    "from tensorflow.keras.losses import BinaryCrossentropy\n",
    "from tensorflow.keras.metrics import BinaryAccuracy\n",
    "from sklearn.model_selection import train_test_split\n",
    "\n",
    "# Specify the paths to the skeleton and accelerometer data folders\n",
    "skeleton_path = r\"C:\\Users\\ytkoffi\\Desktop\\KD\\test\\skel\"\n",
    "accelerometer_path = r\"C:\\Users\\ytkoffi\\Desktop\\KD\\test\\accel\"\n",
    "\n",
    "# Load Skeleton Data from CSV\n",
    "def load_skeleton_data(skel_dir):\n",
    "    X_path = os.path.join(skel_dir, 'skel_X.csv')\n",
    "    Y_path = os.path.join(skel_dir, 'skel_Y.csv')\n",
    "    \n",
    "    if not os.path.isfile(X_path) or not os.path.isfile(Y_path):\n",
    "        raise FileNotFoundError(\"Skeleton data files not found.\")\n",
    "\n",
    "    skel_X = pd.read_csv(X_path)\n",
    "    skel_Y = pd.read_csv(Y_path)\n",
    "    \n",
    "    return skel_X, skel_Y\n",
    "\n",
    "# Load Accelerometer Data from CSV\n",
    "def load_accelerometer_data(accel_dir):\n",
    "    accel_X_path = os.path.join(accel_dir, 'acc_X.csv')\n",
    "    accel_Y_path = os.path.join(accel_dir, 'acc_Y.csv')\n",
    "    \n",
    "    if not os.path.isfile(accel_X_path) or not os.path.isfile(accel_Y_path):\n",
    "        raise FileNotFoundError(\"Accelerometer data files not found.\")\n",
    "\n",
    "    accel_X = pd.read_csv(accel_X_path).values\n",
    "    accel_Y = pd.read_csv(accel_Y_path).values\n",
    "    \n",
    "    return accel_X, accel_Y\n",
    "\n",
    "# Load and preprocess data\n",
    "skel_X, skel_Y = load_skeleton_data(skeleton_path)\n",
    "accelerometer_X, accelerometer_Y = load_accelerometer_data(accelerometer_path)\n",
    "\n",
    "# Print shapes of loaded data\n",
    "print(\"Shape of skeleton data (X):\", skel_X.shape)\n",
    "print(\"Shape of skeleton labels (Y):\", skel_Y.shape)\n",
    "print(\"Shape of accelerometer data (X):\", accelerometer_X.shape)\n",
    "print(\"Shape of accelerometer labels (Y):\", accelerometer_Y.shape)\n",
    "\n",
    "# Preprocess data\n",
    "num_joints = 33\n",
    "num_coordinates = 3\n",
    "num_frames = skel_X.shape[0]\n",
    "\n",
    "joint_columns = [f'Joint{i}_{axis}' for i in range(1, num_joints + 1) for axis in ['X', 'Y', 'Z']]\n",
    "joint_data = skel_X[joint_columns].values\n",
    "skeleton_reshaped = joint_data.reshape((num_frames, num_joints, num_coordinates))\n",
    "accelerometer_X = accelerometer_X.reshape(accelerometer_X.shape[0], accelerometer_X.shape[1], 1)\n",
    "skel_Y = skel_Y.values.flatten()\n",
    "\n",
    "print(\"Shape of reshaped skeleton data:\", skeleton_reshaped.shape)\n",
    "# print(\"Shape of reshaped accelerometer data:\", accelerometer_X.shape)\n",
    "# print(\"Shape of labels:\", skel_Y.shape)\n",
    "\n",
    "# Define Hypergraph Class\n",
    "class HyperGraph:\n",
    "    def __init__(self, num_joints, num_hyperedges):\n",
    "        self.num_joints = num_joints\n",
    "        self.hyperedges = num_hyperedges\n",
    "        self.incidence_matrix = self.create_incidence_matrix()\n",
    "        self.L = self.create_laplacian_matrix()\n",
    "\n",
    "    def create_incidence_matrix(self):\n",
    "        incidence_matrix = np.zeros((self.num_joints, len(self.hyperedges)))\n",
    "        for i, hyperedge in enumerate(self.hyperedges):\n",
    "            for joint in hyperedge:\n",
    "                incidence_matrix[joint, i] = 1\n",
    "        return incidence_matrix\n",
    "\n",
    "    def normalize(self, matrix):\n",
    "        row_sum = np.array(matrix.sum(axis=1))\n",
    "        r_inv = np.where(row_sum == 0, 0, 1 / row_sum)\n",
    "        r_mat_inv = np.diag(r_inv)\n",
    "        normalized_matrix = r_mat_inv @ matrix\n",
    "        return normalized_matrix\n",
    "\n",
    "    def create_laplacian_matrix(self):\n",
    "        H = self.incidence_matrix\n",
    "        D_e = np.diag(np.sum(H, axis=0))\n",
    "        D_v = np.diag(np.sum(H, axis=1))\n",
    "        H_normalized = self.normalize(H)\n",
    "        D_e_inv = np.zeros(D_e.shape)\n",
    "        non_zero_indices = np.diag(D_e) != 0\n",
    "        D_e_inv[non_zero_indices, non_zero_indices] = 1 / D_e[non_zero_indices, non_zero_indices]\n",
    "        L = np.dot(H_normalized, D_e_inv).dot(H_normalized.T) - D_v\n",
    "        return L\n",
    "\n",
    "# Define Hyperedges\n",
    "hyperedges = [\n",
    "    [0, 1, 2, 3, 4, 5, 6, 7, 8, 9, 10],  # Head and neck\n",
    "    [12, 14, 16, 18, 20, 22],  # Left arm\n",
    "    [11, 13, 15, 17, 19, 21],  # Right arm\n",
    "    [11, 12, 23, 24],  # Torso\n",
    "    [24, 26, 28, 30, 32],  # Left leg\n",
    "    [25, 27, 29, 31],  # Right leg\n",
    "]\n",
    "\n",
    "# Initialize the hypergraph\n",
    "hypergraph = HyperGraph(num_joints=num_joints, num_hyperedges=hyperedges)\n",
    "\n",
    "# HGCN Layer\n",
    "class HGCNLayer(tf.keras.layers.Layer):\n",
    "    def __init__(self, units, activation='relu'):\n",
    "        super(HGCNLayer, self).__init__()\n",
    "        self.units = units\n",
    "        self.activation = tf.keras.activations.get(activation)\n",
    "\n",
    "    def build(self, input_shape):\n",
    "        self.w = self.add_weight(shape=(input_shape[-1], self.units),\n",
    "                                 initializer='glorot_uniform',\n",
    "                                 name='kernel')\n",
    "        self.b = self.add_weight(shape=(self.units,),\n",
    "                                 initializer='zeros',\n",
    "                                 name='bias')\n",
    "\n",
    "    def call(self, inputs):\n",
    "        x = tf.matmul(tf.constant(hypergraph.L, dtype=tf.float32), inputs)\n",
    "        x = tf.matmul(x, self.w) + self.b\n",
    "        return self.activation(x)\n",
    "\n",
    "# Model components\n",
    "def create_hgcn_teacher():\n",
    "    inputs = layers.Input(shape=(num_joints, num_coordinates))\n",
    "    x = HGCNLayer(64)(inputs)\n",
    "    x = HGCNLayer(64)(x)\n",
    "    model = Model(inputs, x)\n",
    "    return model\n",
    "\n",
    "def create_cnn_teacher():\n",
    "    inputs = layers.Input(shape=(accelerometer_X.shape[1], 1))\n",
    "    x = layers.Conv1D(64, kernel_size=3, padding='same', activation='relu')(inputs)\n",
    "    x = layers.MaxPooling1D(pool_size=2)(x)\n",
    "    x = layers.Conv1D(64, kernel_size=3, padding='same', activation='relu')(x)\n",
    "    x = layers.MaxPooling1D(pool_size=2)(x)\n",
    "    x = layers.Flatten()(x)\n",
    "    model = Model(inputs, x)\n",
    "    return model\n",
    "\n",
    "def create_teacher_model():\n",
    "    skeleton_input = layers.Input(shape=(num_joints, num_coordinates))\n",
    "    accel_input = layers.Input(shape=(accelerometer_X.shape[1], 1))\n",
    "    \n",
    "    hgcn_model = create_hgcn_teacher()\n",
    "    cnn_model = create_cnn_teacher()\n",
    "    \n",
    "    skeleton_features = hgcn_model(skeleton_input)\n",
    "    accel_features = cnn_model(accel_input)\n",
    "    \n",
    "    combined_features = layers.Concatenate()([layers.Flatten()(skeleton_features), accel_features])\n",
    "    x = layers.Dense(128, activation='relu')(combined_features)\n",
    "    x = layers.Reshape((1, 128))(x)\n",
    "    x = layers.LSTM(128)(x)\n",
    "    output = layers.Dense(1, activation='sigmoid')(x)\n",
    "    print(\"shape of output for the teacher:\", output.shape)\n",
    "    \n",
    "    model = Model(inputs=[skeleton_input, accel_input], outputs=output)\n",
    "    return model\n",
    "\n",
    "def create_hgcn_student():\n",
    "    inputs = layers.Input(shape=(num_joints, num_coordinates))\n",
    "    x = HGCNLayer(32)(inputs)\n",
    "    model = Model(inputs, x)\n",
    "    return model\n",
    "\n",
    "def create_cnn_student():\n",
    "    inputs = layers.Input(shape=(accelerometer_X.shape[1], 1))\n",
    "    x = layers.Conv1D(32, kernel_size=3, padding='same', activation='relu')(inputs)\n",
    "    x = layers.MaxPooling1D(pool_size=2)(x)\n",
    "    x = layers.Flatten()(x)\n",
    "    model = Model(inputs, x)\n",
    "    return model\n",
    "\n",
    "def create_student_model():\n",
    "    skeleton_input = layers.Input(shape=(num_joints, num_coordinates))\n",
    "    accel_input = layers.Input(shape=(accelerometer_X.shape[1], 1))\n",
    "    \n",
    "    hgcn_model = create_hgcn_student()\n",
    "    cnn_model = create_cnn_student()\n",
    "    \n",
    "    skeleton_features = hgcn_model(skeleton_input)\n",
    "    accel_features = cnn_model(accel_input)\n",
    "    \n",
    "    combined = layers.Concatenate()([layers.Flatten()(skeleton_features), accel_features])\n",
    "    x = layers.Dense(64, activation='relu')(combined)\n",
    "    x = layers.Reshape((1, 64))(x)\n",
    "    x = layers.LSTM(64)(x)\n",
    "    output = layers.Dense(1, activation='sigmoid')(x)\n",
    "    print(\"shape of output for the student:\", output.shape)\n",
    "    \n",
    "    model = Model(inputs=[skeleton_input, accel_input], outputs=output)\n",
    "    return model\n",
    "\n",
    "# Knowledge distillation loss\n",
    "def knowledge_distillation_loss(alpha=0.5, temperature=3):\n",
    "    bce = BinaryCrossentropy()\n",
    "    \n",
    "    def loss(y_true, y_pred):\n",
    "        y_true_binary, y_soft = y_true[:, 0], y_true[:, 1]\n",
    "        hard_loss = bce(y_true_binary, y_pred)\n",
    "        teacher_soft = tf.nn.sigmoid(y_soft / temperature)\n",
    "        student_soft = tf.nn.sigmoid(y_pred / temperature)\n",
    "        soft_loss = BinaryCrossentropy()(teacher_soft, student_soft)\n",
    "        return alpha * hard_loss + (1 - alpha) * soft_loss * (temperature ** 2)\n",
    "    \n",
    "    return loss\n",
    "\n",
    "# Training function\n",
    "def train_model(model, x_skel_train, x_acc_train, y_train, x_skel_val, x_acc_val, y_val, soft_labels=None, epochs=300, batch_size=32):\n",
    "    early_stopping = EarlyStopping(patience=20, restore_best_weights=True)\n",
    "    lr_scheduler = ReduceLROnPlateau(factor=0.5, patience=10)\n",
    "    \n",
    "    if soft_labels is not None:\n",
    "        y_train_combined = np.column_stack((y_train, soft_labels))\n",
    "        y_val_combined = np.column_stack((y_val, model.predict([x_skel_val, x_acc_val])))\n",
    "    else:\n",
    "        y_train_combined = y_train\n",
    "        y_val_combined = y_val\n",
    "    \n",
    "    history = model.fit(\n",
    "        [x_skel_train, x_acc_train], y_train_combined,\n",
    "        validation_data=([x_skel_val, x_acc_val], y_val_combined),\n",
    "        epochs=epochs,\n",
    "        batch_size=batch_size,\n",
    "        callbacks=[early_stopping, lr_scheduler]\n",
    "    )\n",
    "    return history\n",
    "\n",
    "# Evaluation function\n",
    "def evaluate_model(model, x_skel, x_acc, y_true):\n",
    "    predictions = model.predict([x_skel, x_acc])\n",
    "    loss = BinaryCrossentropy()(y_true, predictions)\n",
    "    accuracy = BinaryAccuracy()(y_true, predictions)\n",
    "    return loss.numpy(), accuracy.numpy()\n",
    "\n",
    "# Split data\n",
    "X_skel_train, X_skel_val, X_acc_train, X_acc_val, y_train, y_val = train_test_split(\n",
    "    skeleton_reshaped, accelerometer_X, skel_Y, test_size=0.2, random_state=42\n",
    ")\n",
    "\n",
    "# Train teacher model\n",
    "teacher_model = create_teacher_model()\n",
    "teacher_model.compile(optimizer=optimizers.Adam(learning_rate=0.001),\n",
    "                      loss=BinaryCrossentropy(),\n",
    "                      metrics=[BinaryAccuracy()])\n",
    "teacher_history = train_model(teacher_model, X_skel_train, X_acc_train, y_train, X_skel_val, X_acc_val, y_val)\n",
    "\n",
    "# Get soft labels from teacher\n",
    "soft_labels_train = teacher_model.predict([X_skel_train, X_acc_train])\n",
    "\n",
    "# Train student model\n",
    "student_model = create_student_model()\n",
    "student_model.compile(optimizer=optimizers.Adam(learning_rate=0.001),\n",
    "                      loss=knowledge_distillation_loss(),\n",
    "                      metrics=[BinaryAccuracy()])\n",
    "student_history = train_model(student_model, X_skel_train, X_acc_train, y_train, \n",
    "                              X_skel_val, X_acc_val, y_val, soft_labels=soft_labels_train)\n",
    "\n",
    "# Plotting\n",
    "# plt.figure(figsize=(12, 5))\n",
    "# plt.subplot(1, 2, 1)\n",
    "# plt.plot(teacher_history.history['loss'], label='Teacher Train')\n",
    "# plt.plot(teacher_history.history['val_loss'], label='Teacher Val')\n",
    "# plt.plot(student_history.history['loss'], label='Student Train')\n",
    "# plt.plot(student_history.history['val_loss'], label='Student Val')\n",
    "# plt.title('Model Loss')\n",
    "# plt.xlabel('Epoch')\n",
    "# plt.ylabel('Loss')\n",
    "# plt.legend()\n",
    "\n",
    "# plt.subplot(1, 2, 2)\n",
    "# plt.plot(teacher_history.history['binary_accuracy'], label='Teacher Train')\n",
    "# plt.plot(teacher_history.history['val_binary_accuracy'], label='Teacher Val')\n",
    "# plt.plot(student_history.history['binary_accuracy'], label='Student Train')\n",
    "# plt.plot(student_history.history['val_binary_accuracy'], label='Student Val')\n",
    "# plt.title('Model Accuracy')\n",
    "# plt.xlabel('Epoch')\n",
    "# plt.ylabel('Accuracy')\n",
    "# plt.legend()\n",
    "\n",
    "# plt.tight_layout()\n",
    "# plt.show()\n",
    "\n",
    "# # Evaluation\n",
    "# teacher_val_loss, teacher_val_acc = evaluate_model(teacher_model, X_skel_val, X_acc_val, y_val)\n",
    "# student_val_loss, student_val_acc = evaluate_model(student_model, X_skel_val, X_acc_val, y_val)\n",
    "\n",
    "# print(f\"Teacher Model - Validation Loss: {teacher_val_loss:.4f}, Validation Accuracy: {teacher_val_acc:.4f}\")\n",
    "# print(f\"Student Model - Validation Loss: {student_val_loss:.4f}, Validation Accuracy: {student_val_acc:.4f}\")"
   ]
  }
 ],
 "metadata": {
  "kernelspec": {
   "display_name": "Python 3 (ipykernel)",
   "language": "python",
   "name": "python3"
  },
  "language_info": {
   "codemirror_mode": {
    "name": "ipython",
    "version": 3
   },
   "file_extension": ".py",
   "mimetype": "text/x-python",
   "name": "python",
   "nbconvert_exporter": "python",
   "pygments_lexer": "ipython3",
   "version": "3.6.10"
  }
 },
 "nbformat": 4,
 "nbformat_minor": 4
}
